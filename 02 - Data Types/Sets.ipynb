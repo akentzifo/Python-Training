{
  "nbformat": 4,
  "nbformat_minor": 0,
  "metadata": {
    "colab": {
      "provenance": [],
      "collapsed_sections": []
    },
    "kernelspec": {
      "name": "python3",
      "display_name": "Python 3"
    },
    "language_info": {
      "name": "python"
    }
  },
  "cells": [
    {
      "cell_type": "markdown",
      "source": [
        "# Sets\n",
        "\n",
        "Sets in python are another form of collection, just like lists and tuples.\n",
        "\n",
        "However, sets differ in the following ways:\n",
        "\n",
        "* They are unordered, so the items in a set do not have an index.\n",
        "* The items in a set must all be unique, no duplicate values are allowed.\n",
        "* Items in a set are immutable, so you cannot change them once they have been set up.\n",
        "\n",
        "Consider the following example"
      ],
      "metadata": {
        "id": "vEv8f6lkwGbi"
      }
    },
    {
      "cell_type": "code",
      "source": [
        "mySet = {\"apple\", \"banana\", \"orange\"}\n",
        "print(mySet)"
      ],
      "metadata": {
        "colab": {
          "base_uri": "https://localhost:8080/"
        },
        "id": "4HlSK9kzwhGO",
        "outputId": "787b3c50-d417-4790-b882-4b747a23a091"
      },
      "execution_count": 6,
      "outputs": [
        {
          "output_type": "stream",
          "name": "stdout",
          "text": [
            "{'orange', 'apple', 'banana'}\n"
          ]
        }
      ]
    },
    {
      "cell_type": "markdown",
      "source": [
        "When we print the set, the results are not given in any specific order. \n",
        "\n",
        "If we were to try to access elements of the set by indexes, eg. `print(mySet[0])` then this would **not** work.\n",
        "\n",
        "We can interate over the items in a set however, using a for loop for example."
      ],
      "metadata": {
        "id": "gxXwL92JwndS"
      }
    },
    {
      "cell_type": "code",
      "source": [
        "for item in mySet:\n",
        "    print(item)"
      ],
      "metadata": {
        "colab": {
          "base_uri": "https://localhost:8080/"
        },
        "id": "s2Ob84vpxJIP",
        "outputId": "432a35c1-c520-45aa-cd61-400aa771df6d"
      },
      "execution_count": 7,
      "outputs": [
        {
          "output_type": "stream",
          "name": "stdout",
          "text": [
            "orange\n",
            "apple\n",
            "banana\n"
          ]
        }
      ]
    },
    {
      "cell_type": "markdown",
      "source": [
        "We can add items to a set by using the update method."
      ],
      "metadata": {
        "id": "wqHsv72wxQ4q"
      }
    },
    {
      "cell_type": "code",
      "source": [
        "mySet.update([\"tomato\", \"potato\"])\n",
        "print(mySet)"
      ],
      "metadata": {
        "id": "e_PeQGImxUAC"
      },
      "execution_count": null,
      "outputs": []
    },
    {
      "cell_type": "markdown",
      "source": [
        "If we try to add the same value again, you will see that this won't reflect in the contents of the set."
      ],
      "metadata": {
        "id": "KJce025vxXKX"
      }
    },
    {
      "cell_type": "code",
      "source": [
        "mySet.update([\"tomato\"])\n",
        "print(\"After adding tomato for a second time: \", mySet)"
      ],
      "metadata": {
        "id": "07Xxru1qxcUA"
      },
      "execution_count": null,
      "outputs": []
    },
    {
      "cell_type": "markdown",
      "source": [
        "We can use the remove method to remove items from a set, again this will only work once."
      ],
      "metadata": {
        "id": "FKzmhk2hxpnt"
      }
    },
    {
      "cell_type": "code",
      "source": [
        "mySet.remove(\"potato\")\n",
        "print(\"After removing potato:\", mySet)"
      ],
      "metadata": {
        "id": "fDlfO2rZxwua"
      },
      "execution_count": null,
      "outputs": []
    },
    {
      "cell_type": "markdown",
      "source": [
        "There is also the discard method which can be used similarly. See what happens if we try to discard the same item twice."
      ],
      "metadata": {
        "id": "N8RL_cCCx2Vl"
      }
    },
    {
      "cell_type": "code",
      "execution_count": 8,
      "metadata": {
        "colab": {
          "base_uri": "https://localhost:8080/"
        },
        "id": "DWWD-jKTkk7K",
        "outputId": "f9f1d82c-2477-4ed2-a13d-4bbfaf38ac92"
      },
      "outputs": [
        {
          "output_type": "stream",
          "name": "stdout",
          "text": [
            "After discarding Tomato: {'orange', 'apple', 'banana'}\n"
          ]
        }
      ],
      "source": [
        "mySet.discard(\"tomato\")\n",
        "print(\"After discarding Tomato:\", mySet)\n",
        "#Try to discard a second time\n",
        "mySet.discard(\"tomato\")\n",
        "print(\"After discarding tomato a second time\", mySet)"
      ]
    },
    {
      "cell_type": "markdown",
      "source": [
        "Lastly, to clear a set, we can use the clear method as shown below:"
      ],
      "metadata": {
        "id": "DUpT68I1xpNz"
      }
    },
    {
      "cell_type": "code",
      "source": [
        "mySet.clear()\n",
        "print(\"After Clearing: \", mySet)"
      ],
      "metadata": {
        "colab": {
          "base_uri": "https://localhost:8080/"
        },
        "id": "GAGVArxzyM_A",
        "outputId": "247e3a1d-1795-478d-e36b-4faa54f167d1"
      },
      "execution_count": 9,
      "outputs": [
        {
          "output_type": "stream",
          "name": "stdout",
          "text": [
            "After Clearing:  set()\n"
          ]
        }
      ]
    },
    {
      "cell_type": "markdown",
      "source": [
        "We can use sets to carry out mathematical operations such as union, intesection and difference.\n",
        "\n",
        "There are also methods associated with these operations as follows:\n",
        "\n",
        "\n",
        "```\n",
        "union()\n",
        "intersection()\n",
        "difference()\n",
        "symetric_difference()\n",
        "```\n",
        "\n",
<<<<<<< Updated upstream
        "Below is an example of the union method."
=======
        "# Exercises\n",
        "\n",
        "In the below example we can use the union() command to gain the following output {1,2,3,4,5}:"
>>>>>>> Stashed changes
      ],
      "metadata": {
        "id": "2SMxDZVjyUxd"
      }
    },
    {
      "cell_type": "code",
      "source": [
        "set1 = {1, 2, 3}\n",
        "set2 = {3, 4, 5}\n",
        "print(set1.union(set2))"
      ],
      "metadata": {
        "colab": {
          "base_uri": "https://localhost:8080/"
        },
        "id": "O_j10i0pyZFz",
        "outputId": "d97d5d3e-0f56-455f-d939-3b902a90068c"
      },
      "execution_count": 10,
      "outputs": [
        {
          "output_type": "stream",
          "name": "stdout",
          "text": [
            "{1, 2, 3, 4, 5}\n"
          ]
        }
      ]
    },
    {
      "cell_type": "markdown",
      "source": [
        "Instead of `intersection()`, we can also use the `&` operator.\n",
        "\n",
        "Likewise for union, we can use the `|` character."
      ],
      "metadata": {
        "id": "oRIxM1x2zJuA"
      }
    }
  ]
}