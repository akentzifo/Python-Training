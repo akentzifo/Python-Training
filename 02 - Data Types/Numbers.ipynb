{
  "nbformat": 4,
  "nbformat_minor": 0,
  "metadata": {
    "colab": {
      "provenance": [],
      "collapsed_sections": []
    },
    "kernelspec": {
      "name": "python3",
      "display_name": "Python 3"
    },
    "language_info": {
      "name": "python"
    }
  },
  "cells": [
    {
      "cell_type": "markdown",
      "source": [
        "# Numbers and Arithmetic\n",
        "\n",
        "We have seen variable assignment in the following forms\n",
        "\n",
        "```\n",
        "a = \"2\"\n",
        "b = \"1\"\n",
        "c = a+b\n",
        "print(c)\n",
        "```\n",
        "In the above example, what you would expect `print(c)` to evaluate to? If you guessed 3 then you are wrong. The output would in fact be \"21\".\n",
        "\n",
        "This is because \"2\" and \"1\" are string type variables (strings = lengths of plain text) , expressed using quote marks, so adding these strings will result in **string concatenation**.\n",
        "\n",
        "Remember, the **type** of the variable is determined by its **initial assignment value**.\n",
        "\n",
        "*Integers and Floats*\n",
        "\n",
        "*  An **integer** is a **whole number**.\n",
        "\n",
        "*  A **float** is a **floating point number - a number with a decimal point**.\n",
        "\n",
        "For example: \n",
        "```\n",
        "2 : Int\n",
        "2.4 : Float\n",
        "12242242224 : Int\n",
        "2323.000000045 : Float\n",
        "```\n",
        "Python treats integers and floats as numbers, so we can perform arithmetic on them.\n"
      ],
      "metadata": {
        "id": "ustYh7ouG9Wg"
      }
    },
    {
      "cell_type": "code",
      "source": [
        "a = 1\n",
        "b = 1.0\n",
        "\n",
        "c = int(input(\"Give me a whole number: \"))"
      ],
      "metadata": {
        "id": "TvlqHwOGIwIp"
      },
      "execution_count": 1,
      "outputs": []
    },
    {
      "cell_type": "markdown",
      "source": [
        "In the above example: a is an int, b is a float. Using the input method would usually produce a string, however we are **casting** the input as an int.\n",
        "\n",
        "Sometimes it is necessary to cast a variable as a float or int when this would not be done by default. To cast a variable, simply contain it in brackets with the type stated beforehand."
      ],
      "metadata": {
        "id": "-ovpqu_zJBIm"
      }
    },
    {
      "cell_type": "code",
      "source": [
        "x = str(a)\n",
        "y = int(a)\n",
        "z = float(a)"
      ],
      "metadata": {
        "id": "rPewqt5IJeFU"
      },
      "execution_count": 6,
      "outputs": []
    },
    {
      "cell_type": "markdown",
      "source": [
        "When we want to print numbers, it is important to remember that we can concatenate a string to an int and vice versa.\n",
        "\n",
        "For instance: `print(\"a =\" + a)` will NOT work, however the following two options both WILL work:\n",
        "\n"
      ],
      "metadata": {
        "id": "N-05uVR0KJF6"
      }
    },
    {
      "cell_type": "code",
      "source": [
        "print(\"a =\" , a)\n",
        "print(\"a = \" + str(a))"
      ],
      "metadata": {
        "colab": {
          "base_uri": "https://localhost:8080/"
        },
        "id": "rSRFQigUKidw",
        "outputId": "cc3d21f3-86a3-4075-d745-4ee8266250f9"
      },
      "execution_count": 8,
      "outputs": [
        {
          "output_type": "stream",
          "name": "stdout",
          "text": [
            "a = 1\n",
            "a = 1\n"
          ]
        }
      ]
    },
    {
      "cell_type": "markdown",
      "source": [
        "We could either use a comma, to print the int after the string without joining them, or we could cast the int as a string and then concatenate it.\n",
        "\n",
        "In conclusion:\n",
        "\n",
        "*  Python has different data types\n",
        "\n",
        "*  We can declare a variable as an int or a flat depending on its assignment value\n",
        "\n",
        "*  We can cast a string to an int or float\n",
        "\n",
        "*  We can prrint ints and floats, but we must cast to string in order to use string concatenation."
      ],
      "metadata": {
        "id": "BhM8FgPUKzkc"
      }
    }
  ]
}