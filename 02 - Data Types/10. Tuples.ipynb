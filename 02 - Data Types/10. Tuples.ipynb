{
  "nbformat": 4,
  "nbformat_minor": 0,
  "metadata": {
    "colab": {
      "provenance": []
    },
    "kernelspec": {
      "name": "python3",
      "display_name": "Python 3"
    },
    "language_info": {
      "name": "python"
    }
  },
  "cells": [
    {
      "cell_type": "markdown",
      "source": [
        "# Collections: Tuples\n",
        "\n",
        "A tuple is a type of collection in python. It holds multiple objects. Properties of a tuple are:\n",
        "\n",
        "\n",
        "*  It is an ordered collection, so each object has an index. The first object is index 0, the second object is index 1 etc.\n",
        "\n",
        "*  It is immutable. This means once it has been set up you cannot add or take away any of the objects, it is set only once.\n",
        "\n",
        "\n",
        "\n"
      ],
      "metadata": {
        "id": "pzqH11llwmFT"
      }
    },
    {
      "cell_type": "code",
      "source": [
        "t1 = (3,5,7,11)\n",
        "print(\"t1 = \", t1)"
      ],
      "metadata": {
        "colab": {
          "base_uri": "https://localhost:8080/"
        },
        "id": "w2vz5U1YxoQ9",
        "outputId": "d3bce740-27d6-4bd6-8f63-ee1f3f4fcbec"
      },
      "execution_count": 1,
      "outputs": [
        {
          "output_type": "stream",
          "name": "stdout",
          "text": [
            "t1 =  (3, 5, 7, 11)\n"
          ]
        }
      ]
    },
    {
      "cell_type": "markdown",
      "source": [
        "We create tuples using **parenthases**. We can access elements of the tuple using **square brackets**."
      ],
      "metadata": {
        "id": "E3QExMlxxozJ"
      }
    },
    {
      "cell_type": "code",
      "source": [
        "print(\"t1[0] = \", t1[0]) #exp 3\n",
        "print(\"t1[2] = \", t1[2]) #exp 7"
      ],
      "metadata": {
        "colab": {
          "base_uri": "https://localhost:8080/"
        },
        "id": "_Om2NgAzxwSx",
        "outputId": "b93b2ec7-9ed0-4ed6-d1a6-1b62c251953c"
      },
      "execution_count": 2,
      "outputs": [
        {
          "output_type": "stream",
          "name": "stdout",
          "text": [
            "t1[0] =  3\n",
            "t1[2] =  7\n"
          ]
        }
      ]
    },
    {
      "cell_type": "markdown",
      "source": [
        "A new tuple can be created by slicing. We can use a colon to access a range of indexes within a tuple.\n",
        "\n",
        "If we leave the left side of the colon blank, it means from the beginning.\n",
        "\n",
        "If we leave the right side of the colon blank, it means from (but not including) the left value, to the end value etc."
      ],
      "metadata": {
        "id": "b5l-xlbwyBXN"
      }
    },
    {
      "cell_type": "code",
      "execution_count": 3,
      "metadata": {
        "id": "rs5maQloaVQS",
        "colab": {
          "base_uri": "https://localhost:8080/"
        },
        "outputId": "df38bbd2-5ee9-4067-df25-6dbe77e51529"
      },
      "outputs": [
        {
          "output_type": "stream",
          "name": "stdout",
          "text": [
            "t2 =  (5, 7)\n",
            "t3 =  (3, 5)\n",
            "t4 =  (7, 11)\n"
          ]
        }
      ],
      "source": [
        "t2 = t1[1:3] #exp 5,7\n",
        "t3  =t1[:2] #exp 3,5\n",
        "t4 = t1[2:] #exp 7, 11\n",
        "print(\"t2 = \", t2)\n",
        "print(\"t3 = \", t3)\n",
        "print(\"t4 = \", t4)"
      ]
    },
    {
      "cell_type": "markdown",
      "source": [
        "We can also create a new tuple by reversing, by using a double colon notation."
      ],
      "metadata": {
        "id": "lUHf9G3XyZTQ"
      }
    },
    {
      "cell_type": "code",
      "source": [
        "#Create a new tuple by reversing\n",
        "t5 = t1[::-1] #exp 11, 7, 5, 3\n",
        "print(\"t5 = \", t5)"
      ],
      "metadata": {
        "id": "GRJoWA07yHFH"
      },
      "execution_count": null,
      "outputs": []
    },
    {
      "cell_type": "markdown",
      "source": [
        "Finally, we can iterate over a tuple using a **for loop**, just like with any other type of collection.\n"
      ],
      "metadata": {
        "id": "wC9ALmSpyIlR"
      }
    },
    {
      "cell_type": "code",
      "source": [
        "#Iterate over a tuple with a for loop\n",
        "t5 = (\"a\", \"b\", \"c\", \"d\")\n",
        "for i in t5:\n",
        "    print(i)"
      ],
      "metadata": {
        "colab": {
          "base_uri": "https://localhost:8080/"
        },
        "id": "LHotIiIbyJ_F",
        "outputId": "745214d1-cd79-43ac-b17e-da1304301514"
      },
      "execution_count": 4,
      "outputs": [
        {
          "output_type": "stream",
          "name": "stdout",
          "text": [
            "a\n",
            "b\n",
            "c\n",
            "d\n"
          ]
        }
      ]
    },
    {
      "cell_type": "markdown",
      "source": [
        "In the next workbook, we will discuss a different type of collection: Lists."
      ],
      "metadata": {
        "id": "QQ5Rokoq1wKt"
      }
    }
  ]
}