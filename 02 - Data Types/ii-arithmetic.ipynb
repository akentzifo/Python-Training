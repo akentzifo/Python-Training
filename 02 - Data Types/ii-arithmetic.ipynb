{
  "nbformat": 4,
  "nbformat_minor": 0,
  "metadata": {
    "colab": {
      "provenance": [],
      "collapsed_sections": []
    },
    "kernelspec": {
      "name": "python3",
      "display_name": "Python 3"
    },
    "language_info": {
      "name": "python"
    }
  },
  "cells": [
    {
      "cell_type": "markdown",
      "source": [
        "# Arithmetic\n",
        "\n",
        "In this lesson, we will take the ints and floats from the previous workbook and perform some arithmetic.\n",
        "\n",
        "When using **addition**, remember that python casts answers in the following manner.\n",
        "\n",
        "```\n",
        "int + int = int\n",
        "float + float = float\n",
        "int + float = float\n",
        "```\n",
        "\n"
      ],
      "metadata": {
        "id": "iXCb-bYMME2n"
      }
    },
    {
      "cell_type": "code",
      "source": [
        "a = 1\n",
        "b = 3\n",
        "c = 4.3\n",
        "d = 2.1\n",
        "\n",
        "ab = a+b\n",
        "cd = c+d\n",
        "ac = a+c\n",
        "\n",
        "print(ab)\n",
        "print(cd)\n",
        "print(ac)\n",
        "\n",
        "print(a, \"+\", b, \"=\", ab, type(a), \"+\", type(b), \"=\", type(ab)) \n",
        "print(c, \"+\", d, \"=\", cd, type(c), \"+\", type(d), \"=\", type(cd))\n",
        "print(a, \"+\", c, \"=\", ac, type(a), \"+\", type(c), \"=\", type(ac))"
      ],
      "metadata": {
        "colab": {
          "base_uri": "https://localhost:8080/"
        },
        "id": "CG7Vyu-EMow4",
        "outputId": "779a7744-f325-46c3-b2e0-3ebba9e1f204"
      },
      "execution_count": 4,
      "outputs": [
        {
          "output_type": "stream",
          "name": "stdout",
          "text": [
            "4\n",
            "6.4\n",
            "5.3\n",
            "1 + 3 = 4 <class 'int'> + <class 'int'> = <class 'int'>\n",
            "4.3 + 2.1 = 6.4 <class 'float'> + <class 'float'> = <class 'float'>\n",
            "1 + 4.3 = 5.3 <class 'int'> + <class 'float'> = <class 'float'>\n"
          ]
        }
      ]
    },
    {
      "cell_type": "markdown",
      "source": [
        "The **subtraction operator** performs subtraction from right to left."
      ],
      "metadata": {
        "id": "n1jeOCvTNJWQ"
      }
    },
    {
      "cell_type": "code",
      "source": [
        "a = 8\n",
        "b = 1\n",
        "c = 5.4\n",
        "d = 3.2\n",
        "\n",
        "ab = a-b\n",
        "cb = c-b\n",
        "ac = a-c\n",
        "cd = c-d\n",
        "\n",
        "print(a, \"-\", b, \"=\", ab)\n",
        "print(c, \"-\", b, \"=\", cb)\n",
        "print(a, \"-\", c, \"=\", ac)\n",
        "print(c, \"-\", d, \"=\", cd)"
      ],
      "metadata": {
        "id": "_uqBHl-INx18",
        "colab": {
          "base_uri": "https://localhost:8080/"
        },
        "outputId": "28bac56b-4318-4d97-8200-3817b36faa8d"
      },
      "execution_count": 6,
      "outputs": [
        {
          "output_type": "stream",
          "name": "stdout",
          "text": [
            "8 - 1 = 7\n",
            "5.4 - 1 = 4.4\n",
            "8 - 5.4 = 2.5999999999999996\n",
            "5.4 - 3.2 = 2.2\n"
          ]
        }
      ]
    },
    {
      "cell_type": "markdown",
      "source": [
        "Notice that whenever a decimal point is introduced, the answer becomes casted as a float.\n",
        "\n",
        "**Multiplication** is performed using the * operator."
      ],
      "metadata": {
        "id": "JRPImeFeNS1L"
      }
    },
    {
      "cell_type": "code",
      "source": [
        "a = 8\n",
        "b = 1.6\n",
        "\n",
        "aa = a*a\n",
        "bb = b*b\n",
        "ab = a*b\n",
        "\n",
        "print(a, \"*\", a, \"=\", aa)\n",
        "print(b, \"*\", b, \"=\", bb)\n",
        "print(a, \"*\", b, \"=\", ab)"
      ],
      "metadata": {
        "id": "rZTG3B8XOijZ",
        "colab": {
          "base_uri": "https://localhost:8080/"
        },
        "outputId": "7820e7d3-6116-49d7-89f8-52c6f4cad68f"
      },
      "execution_count": 7,
      "outputs": [
        {
          "output_type": "stream",
          "name": "stdout",
          "text": [
            "8 * 8 = 64\n",
            "1.6 * 1.6 = 2.5600000000000005\n",
            "8 * 1.6 = 12.8\n"
          ]
        }
      ]
    },
    {
      "cell_type": "markdown",
      "source": [
        "The **division** operator performs division from the right operand into the left operand.\n",
        "\n",
        "In python, when performing division, **a float is always returned**."
      ],
      "metadata": {
        "id": "sstkmbPcO5ms"
      }
    },
    {
      "cell_type": "code",
      "source": [
        "a = 8\n",
        "b = 1\n",
        "c = 5.4\n",
        "d = 3.2\n",
        "\n",
        "ab = a/b\n",
        "cb = c/b\n",
        "ac = a/c\n",
        "cd = c/d\n",
        "\n",
        "print(a, \"/\", b, \"=\", ab)\n",
        "print(c, \"/\", b, \"=\", cb)\n",
        "print(a, \"/\", c, \"=\", ac)\n",
        "print(c, \"/\", d, \"=\", cd)"
      ],
      "metadata": {
        "colab": {
          "base_uri": "https://localhost:8080/"
        },
        "id": "BSpIPAU3PPc7",
        "outputId": "433434cb-8d3c-4c32-dd75-e8de26b32fba"
      },
      "execution_count": 9,
      "outputs": [
        {
          "output_type": "stream",
          "name": "stdout",
          "text": [
            "8 / 1 = 8.0\n",
            "5.4 / 1 = 5.4\n",
            "8 / 5.4 = 1.4814814814814814\n",
            "5.4 / 3.2 = 1.6875\n"
          ]
        }
      ]
    },
    {
      "cell_type": "markdown",
      "source": [
        "**Floor division** refers to performing a division and then rounding down to the next whole number. This uses the **//** operator.\n",
        "\n",
        "Because we are rounding down to whole numbers, performing floor division of two ints will actually return another int."
      ],
      "metadata": {
        "id": "c0vyhCjNPPM2"
      }
    },
    {
      "cell_type": "code",
      "source": [
        "a = 8\n",
        "b = 1\n",
        "c = 5.4\n",
        "d = 3.2\n",
        "\n",
        "ab = a//b\n",
        "cb = c//b\n",
        "ac = a//c\n",
        "cd = c//d\n",
        "\n",
        "print(a, \"//\", b, \"=\", ab)\n",
        "print(c, \"//\", b, \"=\", cb)\n",
        "print(a, \"//\", c, \"=\", ac)\n",
        "print(c, \"//\", d, \"=\", cd)"
      ],
      "metadata": {
        "colab": {
          "base_uri": "https://localhost:8080/"
        },
        "id": "ZHIDHj6SQPye",
        "outputId": "6dcea7a6-9ac4-4e85-bbf2-bb099615115c"
      },
      "execution_count": 10,
      "outputs": [
        {
          "output_type": "stream",
          "name": "stdout",
          "text": [
            "8 // 1 = 8\n",
            "5.4 // 1 = 5.0\n",
            "8 // 5.4 = 1.0\n",
            "5.4 // 3.2 = 1.0\n"
          ]
        }
      ]
    },
    {
      "cell_type": "markdown",
      "source": [
        "The **modulo** operator is potentially something you may have not seen before. This performs a division from right to left and returns the **remainder**. In python, we use a percent sign **%** to perform these calculations."
      ],
      "metadata": {
        "id": "3ePCM3n3Qgcr"
      }
    },
    {
      "cell_type": "code",
      "source": [
        "a = 8\n",
        "b = 3\n",
        "c = 5.4\n",
        "d = 3.2\n",
        "\n",
        "ab = a%b\n",
        "cb = c%b\n",
        "ac = a%c\n",
        "cd = c%d\n",
        "\n",
        "print(a, \"%\", b, \"=\", ab)\n",
        "print(c, \"%\", b, \"=\", cb)\n",
        "print(a, \"%\", c, \"=\", ac)\n",
        "print(c, \"%\", d, \"=\", cd)"
      ],
      "metadata": {
        "colab": {
          "base_uri": "https://localhost:8080/"
        },
        "id": "xpgh76nFQ1eh",
        "outputId": "ec12f18c-a677-4263-a15f-820da18173f0"
      },
      "execution_count": 11,
      "outputs": [
        {
          "output_type": "stream",
          "name": "stdout",
          "text": [
            "8 % 3 = 2\n",
            "5.4 % 3 = 2.4000000000000004\n",
            "8 % 5.4 = 2.5999999999999996\n",
            "5.4 % 3.2 = 2.2\n"
          ]
        }
      ]
    },
    {
      "cell_type": "markdown",
      "source": [
        "The **Exponent** operator raises the left operand to the **power** of the right operand. We use two asterisks (**) for this.\n",
        "\n"
      ],
      "metadata": {
        "id": "SiVd3q3wRgdq"
      }
    },
    {
      "cell_type": "code",
      "source": [
        "a = 8\n",
        "b = 3\n",
        "c = 5.0\n",
        "d = 2.0\n",
        "\n",
        "ab = a**b\n",
        "cd = c**d\n",
        "ad = a**d\n",
        "db = d**b\n",
        "\n",
        "print(a, \"**\", b, \"=\", ab)\n",
        "print(c, \"**\", b, \"=\", cd)\n",
        "print(a, \"**\", d, \"=\", ad)\n",
        "print(d, \"**\", b, \"=\", db)"
      ],
      "metadata": {
        "colab": {
          "base_uri": "https://localhost:8080/"
        },
        "id": "ee96FMofRzSo",
        "outputId": "7a608ecf-9cb3-423a-d045-3893aeda7aa0"
      },
      "execution_count": 12,
      "outputs": [
        {
          "output_type": "stream",
          "name": "stdout",
          "text": [
            "8 ** 3 = 512\n",
            "5.0 ** 3 = 25.0\n",
            "8 ** 2.0 = 64.0\n",
            "2.0 ** 3 = 8.0\n"
          ]
        }
      ]
    },
    {
      "cell_type": "markdown",
      "source": [
        "Python follows the well-known order of expression of BODMAS. \n",
        "1. Brackets\n",
        "2. Orders of (powers/indices)\n",
        "3. Division\n",
        "4. Multiplication\n",
        "5. Addition\n",
        "6. Subtraction\n",
        "\n",
        "This is something to bear in mind when performing arithmetic within python.\n",
        "\n",
        "Being able to perform arithmetic in our programs means that we are able to make them more useful.\n",
        "\n",
        "It is important to remember the differences between int, float and string type variables, and how python treats them differently."
      ],
      "metadata": {
        "id": "1Grj48K4SEDu"
      }
    }
  ]
}