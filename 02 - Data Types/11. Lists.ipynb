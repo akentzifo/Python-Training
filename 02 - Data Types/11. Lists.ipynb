{
  "nbformat": 4,
  "nbformat_minor": 0,
  "metadata": {
    "colab": {
      "provenance": []
    },
    "kernelspec": {
      "name": "python3",
      "display_name": "Python 3"
    },
    "language_info": {
      "name": "python"
    }
  },
  "cells": [
    {
      "cell_type": "markdown",
      "source": [
        "# Collections: Tuples\n",
        "\n",
        "A tuple is a type of collection in python. It holds multiple objects. Properties of a tuple are:\n",
        "\n",
        "\n",
        "*  It is an ordered collection, so each object has an index. The first object is index 0, the second object is index 1 etc.\n",
        "\n",
        "*  It is immutable. This means once it has been set up you cannot add or take away any of the objects, it is set only once.\n",
        "\n",
        "\n",
        "\n"
      ],
      "metadata": {
        "id": "pzqH11llwmFT"
      }
    },
    {
      "cell_type": "code",
      "source": [
        "t1 = (3,5,7,11)\n",
        "print(\"t1 = \", t1)"
      ],
      "metadata": {
        "colab": {
          "base_uri": "https://localhost:8080/"
        },
        "id": "w2vz5U1YxoQ9",
        "outputId": "d3bce740-27d6-4bd6-8f63-ee1f3f4fcbec"
      },
      "execution_count": null,
      "outputs": [
        {
          "output_type": "stream",
          "name": "stdout",
          "text": [
            "t1 =  (3, 5, 7, 11)\n"
          ]
        }
      ]
    },
    {
      "cell_type": "markdown",
      "source": [
        "We create tuples using **parenthases**. We can access elements of the tuple using **square brackets**."
      ],
      "metadata": {
        "id": "E3QExMlxxozJ"
      }
    },
    {
      "cell_type": "code",
      "source": [
        "print(\"t1[0] = \", t1[0]) #exp 3\n",
        "print(\"t1[2] = \", t1[2]) #exp 7"
      ],
      "metadata": {
        "colab": {
          "base_uri": "https://localhost:8080/"
        },
        "id": "_Om2NgAzxwSx",
        "outputId": "b93b2ec7-9ed0-4ed6-d1a6-1b62c251953c"
      },
      "execution_count": null,
      "outputs": [
        {
          "output_type": "stream",
          "name": "stdout",
          "text": [
            "t1[0] =  3\n",
            "t1[2] =  7\n"
          ]
        }
      ]
    },
    {
      "cell_type": "markdown",
      "source": [
        "A new tuple can be created by slicing. We can use a colon to access a range of indexes within a tuple.\n",
        "\n",
        "If we leave the left side of the colon blank, it means from the beginning.\n",
        "\n",
        "If we leave the right side of the colon blank, it means from (but not including) the left value, to the end value etc."
      ],
      "metadata": {
        "id": "b5l-xlbwyBXN"
      }
    },
    {
      "cell_type": "code",
      "execution_count": null,
      "metadata": {
        "id": "rs5maQloaVQS",
        "colab": {
          "base_uri": "https://localhost:8080/"
        },
        "outputId": "df38bbd2-5ee9-4067-df25-6dbe77e51529"
      },
      "outputs": [
        {
          "output_type": "stream",
          "name": "stdout",
          "text": [
            "t2 =  (5, 7)\n",
            "t3 =  (3, 5)\n",
            "t4 =  (7, 11)\n"
          ]
        }
      ],
      "source": [
        "t2 = t1[1:3] #exp 5,7\n",
        "t3  =t1[:2] #exp 3,5\n",
        "t4 = t1[2:] #exp 7, 11\n",
        "print(\"t2 = \", t2)\n",
        "print(\"t3 = \", t3)\n",
        "print(\"t4 = \", t4)"
      ]
    },
    {
      "cell_type": "markdown",
      "source": [
        "We can also create a new tuple by reversing, by using a double colon notation."
      ],
      "metadata": {
        "id": "lUHf9G3XyZTQ"
      }
    },
    {
      "cell_type": "code",
      "source": [
        "#Create a new tuple by reversing\n",
        "t5 = t1[::-1] #exp 11, 7, 5, 3\n",
        "print(\"t5 = \", t5)"
      ],
      "metadata": {
        "id": "GRJoWA07yHFH"
      },
      "execution_count": null,
      "outputs": []
    },
    {
      "cell_type": "markdown",
      "source": [
        "Finally, we can iterate over a tuple using a **for loop**, just like with any other type of collection.\n"
      ],
      "metadata": {
        "id": "wC9ALmSpyIlR"
      }
    },
    {
      "cell_type": "code",
      "source": [
        "#Iterate over a tuple with a for loop\n",
        "t5 = (\"a\", \"b\", \"c\", \"d\")\n",
        "for i in t5:\n",
        "    print(i)"
      ],
      "metadata": {
        "colab": {
          "base_uri": "https://localhost:8080/"
        },
        "id": "LHotIiIbyJ_F",
        "outputId": "745214d1-cd79-43ac-b17e-da1304301514"
      },
      "execution_count": null,
      "outputs": [
        {
          "output_type": "stream",
          "name": "stdout",
          "text": [
            "a\n",
            "b\n",
            "c\n",
            "d\n"
          ]
        }
      ]
    },
    {
      "cell_type": "markdown",
      "source": [
        "In the next workbook, we will discuss a different type of collection: Lists."
      ],
      "metadata": {
        "id": "QQ5Rokoq1wKt"
      }
    },
    {
      "cell_type": "markdown",
      "source": [
        "# Collections: Lists\n",
        "\n",
        "A list is another type of collection with the following properties:\n",
        "\n",
        "\n",
        "*   A list is ordered with each item having an index.\n",
        "*   Unlike a tuple, a list is mutable, so the objects can be changed after it has been set up.\n",
        "\n"
      ],
      "metadata": {
        "id": "kRh7fLMadBG9"
      }
    },
    {
      "cell_type": "code",
      "source": [
        "myList = [5,10,15,20]\n",
        "print(myList)"
      ],
      "metadata": {
        "colab": {
          "base_uri": "https://localhost:8080/"
        },
        "id": "L5EbFJCTdUyy",
        "outputId": "b7747943-55b2-482f-844b-fff1c460b650"
      },
      "execution_count": 2,
      "outputs": [
        {
          "output_type": "stream",
          "name": "stdout",
          "text": [
            "[5, 10, 15, 20]\n"
          ]
        }
      ]
    },
    {
      "cell_type": "markdown",
      "source": [
        "We use **square brackets** to signify a list.\n",
        "\n",
        "Just like with a tuple, we can also use square brackets to access elements by their indexes.\n",
        "\n",
        "We can test the list and an element of the list to see what object type they are."
      ],
      "metadata": {
        "id": "N3mYLz2Mdq8O"
      }
    },
    {
      "cell_type": "code",
      "source": [
        "print(\"myList index 0 = \", myList[0])\n",
        "print(\"myList index 2 = \", myList[2])\n",
        "\n",
        "print(type(myList))\n",
        "print(type(myList[2]))"
      ],
      "metadata": {
        "colab": {
          "base_uri": "https://localhost:8080/"
        },
        "id": "PtQl-G_0eBQ7",
        "outputId": "b6937aad-1af5-4afa-f628-ae748f4b1fa7"
      },
      "execution_count": 5,
      "outputs": [
        {
          "output_type": "stream",
          "name": "stdout",
          "text": [
            "myList index 0 =  5\n",
            "myList index 2 =  15\n",
            "<class 'list'>\n",
            "<class 'int'>\n"
          ]
        }
      ]
    },
    {
      "cell_type": "markdown",
      "source": [
        "Because lists are mutable, they can be changed.\n",
        "\n",
        "There are several ways that we can add elements to a list. One of these is using the **append** function."
      ],
      "metadata": {
        "id": "ktOTlWBSApoI"
      }
    },
    {
      "cell_type": "code",
      "source": [
        "myList.append(25)\n",
        "print(myList)"
      ],
      "metadata": {
        "colab": {
          "base_uri": "https://localhost:8080/"
        },
        "id": "hunpteHNeBX3",
        "outputId": "adc70a95-03b1-4510-9c26-9c1791553648"
      },
      "execution_count": 6,
      "outputs": [
        {
          "output_type": "stream",
          "name": "stdout",
          "text": [
            "[5, 10, 15, 20, 25]\n"
          ]
        }
      ]
    },
    {
      "cell_type": "markdown",
      "source": [
        "As you can see, this has added the int 25 to the end of the list, creating a new index.\n",
        "\n",
        "We can also join two lists, we do this by using the **extend** function.\n",
        "\n",
        "For this function, we have to provide another list within the brackets for it to work.\n"
      ],
      "metadata": {
        "id": "431aiar1B-sq"
      }
    },
    {
      "cell_type": "code",
      "source": [
        "myList.extend([30, 35, 40, 45])\n",
        "print(myList)"
      ],
      "metadata": {
        "colab": {
          "base_uri": "https://localhost:8080/"
        },
        "id": "B_08wtwbCI7P",
        "outputId": "b8f2a391-65e1-4eee-94e2-f036b4db1260"
      },
      "execution_count": 7,
      "outputs": [
        {
          "output_type": "stream",
          "name": "stdout",
          "text": [
            "[5, 10, 15, 20, 25, 30, 35, 40, 45]\n"
          ]
        }
      ]
    },
    {
      "cell_type": "markdown",
      "source": [
        "Another way of doing this is concatenating two lists by using the + operator."
      ],
      "metadata": {
        "id": "6PY2ZfK4C28-"
      }
    },
    {
      "cell_type": "code",
      "source": [
        "myList += [50, 55, 60, 65]\n",
        "print(myList)"
      ],
      "metadata": {
        "colab": {
          "base_uri": "https://localhost:8080/"
        },
        "id": "1FvsqbrKC9T2",
        "outputId": "a5956def-6196-40c9-8e92-1d121b81fced"
      },
      "execution_count": 9,
      "outputs": [
        {
          "output_type": "stream",
          "name": "stdout",
          "text": [
            "[5, 10, 15, 20, 25, 30, 35, 40, 45, 50, 55, 60, 65, 50, 55, 60, 65]\n"
          ]
        }
      ]
    },
    {
      "cell_type": "markdown",
      "source": [
        "Sometimes we may want to insert elements into the middle of the list.\n",
        "\n",
        "To do this we can use the insert method.\n",
        "\n",
        "This method takes two parameters: the index of insertion, and the object to be inserted."
      ],
      "metadata": {
        "id": "i9QAYMIWDU59"
      }
    },
    {
      "cell_type": "code",
      "source": [
        "bread = [\"flour\", \"yeast\", \"water\"]\n",
        "print(bread)\n",
        "\n",
        "bread.insert(2, \"salt\")\n",
        "print(bread)"
      ],
      "metadata": {
        "colab": {
          "base_uri": "https://localhost:8080/"
        },
        "id": "ikPQCO5dDZpM",
        "outputId": "fe69f460-46d0-459a-9a01-98474ac14d46"
      },
      "execution_count": 10,
      "outputs": [
        {
          "output_type": "stream",
          "name": "stdout",
          "text": [
            "['flour', 'yeast', 'water']\n",
            "['flour', 'yeast', 'salt', 'water']\n"
          ]
        }
      ]
    },
    {
      "cell_type": "markdown",
      "source": [
        "Here we have inserted the string \"salt\" into the list at index 2, so it is positioned between the yeast and the water.\n",
        "\n",
        "We may also want to remove elements from the list, and there are several ways of doing this.\n",
        "\n",
        "One method is by using the **remove** function, this will search for the item:"
      ],
      "metadata": {
        "id": "4cVxqvEYENaF"
      }
    },
    {
      "cell_type": "code",
      "source": [
        "bread.remove(\"salt\")\n",
        "print(bread)"
      ],
      "metadata": {
        "id": "SVWHyNPmEs0C"
      },
      "execution_count": null,
      "outputs": []
    },
    {
      "cell_type": "markdown",
      "source": [
        "Another method is using the **pop** method, which removes an item at a given index.\n",
        "\n",
        "However, the pop method also lets you do things with the removed object, as it returns that object."
      ],
      "metadata": {
        "id": "IWBmSlLnFB2f"
      }
    },
    {
      "cell_type": "code",
      "source": [
        "print(bread.pop(1))\n",
        "print(bread)"
      ],
      "metadata": {
        "colab": {
          "base_uri": "https://localhost:8080/"
        },
        "id": "Mae-eu0MFGkU",
        "outputId": "1a63416e-bbda-4123-bdea-510465a969d2"
      },
      "execution_count": 12,
      "outputs": [
        {
          "output_type": "stream",
          "name": "stdout",
          "text": [
            "yeast\n",
            "['flour', 'salt', 'water']\n"
          ]
        }
      ]
    },
    {
      "cell_type": "markdown",
      "source": [
        "Finally, we can use the **del** keyword (not a function) to delete an element at a given index."
      ],
      "metadata": {
        "id": "X58NV3ApKlik"
      }
    },
    {
      "cell_type": "code",
      "source": [
        "print(myList)\n",
        "del myList[5]\n",
        "print(myList)"
      ],
      "metadata": {
        "colab": {
          "base_uri": "https://localhost:8080/"
        },
        "id": "PsNnwBdJK2NQ",
        "outputId": "092c37d2-09e0-4e55-ef14-1062ce0a3bed"
      },
      "execution_count": 13,
      "outputs": [
        {
          "output_type": "stream",
          "name": "stdout",
          "text": [
            "[5, 10, 15, 20, 25, 30, 35, 40, 45, 50, 55, 60, 65, 50, 55, 60, 65]\n",
            "[5, 10, 15, 20, 25, 35, 40, 45, 50, 55, 60, 65, 50, 55, 60, 65]\n"
          ]
        }
      ]
    },
    {
      "cell_type": "markdown",
      "source": [
        "We can also use the **del** keyword to remove a slice of the list.\n",
        "\n",
        "We can specify the slices similarly to how we manipulate the slices of a tuple."
      ],
      "metadata": {
        "id": "GcE0VCKoK-gE"
      }
    },
    {
      "cell_type": "code",
      "source": [
        "print(myList)\n",
        "del myList[:4]\n",
        "print(myList)"
      ],
      "metadata": {
        "id": "W_nDf58YLEd2"
      },
      "execution_count": null,
      "outputs": []
    }
  ]
}