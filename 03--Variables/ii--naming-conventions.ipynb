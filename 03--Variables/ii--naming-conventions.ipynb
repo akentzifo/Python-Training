{
 "cells": [
  {
   "cell_type": "markdown",
   "metadata": {},
   "source": [
    "# Naming conventions\n",
    "\n"
   ]
  },
  {
   "cell_type": "markdown",
   "metadata": {},
   "source": [
    "An often overlooked aspect of writing good code is being able to name variables effectively.\n",
    "\n",
    "A variable should be named succinctly and accurately but in a way that describes that value without overlap with over variables in your code.\n",
    "\n",
    "For example, let's say I have a dictionary which stores test results for students in a class. Which of the following do you think is the most appropriate name?"
   ]
  },
  {
   "cell_type": "code",
   "execution_count": null,
   "metadata": {},
   "outputs": [],
   "source": [
    "r = {\"Mark\": 45, \"Layla\": 64} # 1\n",
    "\n",
    "results = {\"Mark\": 45, \"Layla\": 64} # 2\n",
    "\n",
    "test_results = {\"Mark\": 45, \"Layla\": 64} # 3\n",
    "\n",
    "test_results_for_students_in_class = {\"Mark\": 45, \"Layla\": 64} # 4"
   ]
  },
  {
   "cell_type": "markdown",
   "metadata": {},
   "source": [
    "Option 1 is definitely not right. Nobody will understand what `r` is referring to elsewhere in the code. Even if you're writing a quick script, you should avoid naming variables this way.\n",
    "\n",
    "Option 4 is the other end of the spectrum and is most likely too verbose. If that variable needs to be manipulated three or four times in one operation later on, the line that the operation sits on will be extremely long and difficult to read. This is not to say variable names **can't** be this long but it should not be common.\n",
    "\n",
    "Deciding between options 3 and 4 is a personal choice and depends on the context of your code. \n",
    "\n",
    "Perhaps there is a variable elsewhere in your code that is responsible for storing attendance results. In that situation, using option 3 is best.\n",
    "\n",
    "However, maybe this variable is only used within a function that is responsible for calculating test results and so option 2 works just fine.\n",
    "\n",
    "Personally, I would always lean towards option 3 because `test_results` describes the data more accurately than `results`, without lengthening the variable name too much. "
   ]
  },
  {
   "cell_type": "markdown",
   "metadata": {},
   "source": [
    "## Python variable names"
   ]
  },
  {
   "cell_type": "markdown",
   "metadata": {},
   "source": [
    "Choosing and formatting a variable name in Python should follow the rules laid out in the PEP guidelines. For reference, they are as follows:\n",
    "\n",
    "- All characters lowercase\n",
    "- Words separated by underscores\n",
    "- No special characters\n",
    "- No names that overlap with Python keywords"
   ]
  },
  {
   "cell_type": "markdown",
   "metadata": {},
   "source": [
    "Python keywords are those reserved for special operations and so cannot be used.\n",
    "\n",
    "Examples of these keywords include `for`, `while`, `True`, `False`, `and`, `if`, `else` etc.\n",
    "\n",
    "There's nothing stopping you from using those keywords *within* a variable name however e.g. `if_valid`"
   ]
  }
 ],
 "metadata": {
  "kernelspec": {
   "display_name": "Python 3.10.7 64-bit (microsoft store)",
   "language": "python",
   "name": "python3"
  },
  "language_info": {
   "name": "python",
   "version": "3.10.7"
  },
  "orig_nbformat": 4,
  "vscode": {
   "interpreter": {
    "hash": "38f8aafa29e11df14487f05b729aeea108902a887a8d7829906851d0bff184dd"
   }
  }
 },
 "nbformat": 4,
 "nbformat_minor": 2
}
