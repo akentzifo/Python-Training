{
 "cells": [
  {
   "cell_type": "markdown",
   "metadata": {},
   "source": [
    "# Assigning variables\n",
    "\n",
    "A variable in Python (or any other language) is essentially **a name for a piece of data** that you'd like to manipulate or reuse in your code.\n",
    "\n",
    "A variable can hold any of the primitive data types covered in the previous section; strings, lists etc. but they can also hold functions, classes, objects, generators and many more (all of which are explained in future sections).\n",
    "\n",
    "We assign a variable to a value using the equality operator: `=`"
   ]
  },
  {
   "cell_type": "code",
   "execution_count": null,
   "metadata": {},
   "outputs": [],
   "source": [
    "number = 1"
   ]
  },
  {
   "cell_type": "markdown",
   "metadata": {},
   "source": [
    "In the example above, the integer `1` has been assigned to the variable `number`. \n",
    "\n",
    "Any operation that we could have performed on `1` can also be performed on `number`, as you can see in the following cells."
   ]
  },
  {
   "cell_type": "code",
   "execution_count": null,
   "metadata": {},
   "outputs": [],
   "source": [
    "1 * 2"
   ]
  },
  {
   "cell_type": "code",
   "execution_count": null,
   "metadata": {},
   "outputs": [],
   "source": [
    "number * 2"
   ]
  },
  {
   "cell_type": "markdown",
   "metadata": {},
   "source": [
    "We can assign the output of the above operation to another variable and then use that variable in further operations if we wish."
   ]
  },
  {
   "cell_type": "code",
   "execution_count": null,
   "metadata": {},
   "outputs": [],
   "source": [
    "result = number * 2\n",
    "\n",
    "result + 4"
   ]
  },
  {
   "cell_type": "markdown",
   "metadata": {},
   "source": [
    "## Reassigning variables"
   ]
  },
  {
   "cell_type": "markdown",
   "metadata": {},
   "source": [
    "A variable can always be reassigned to a new value if you wish. Reassigning `number` to have the value `5` below results in the number `10` being printed instead."
   ]
  },
  {
   "cell_type": "code",
   "execution_count": null,
   "metadata": {},
   "outputs": [],
   "source": [
    "number = 5\n",
    "\n",
    "number * 2"
   ]
  },
  {
   "cell_type": "markdown",
   "metadata": {},
   "source": [
    "Technically, you can reassign a variable to anything you want and Python will let you. `number` has been reassigned to `{}` - an empty dictionary - in the cell below. You will see that `number * 2` fails as it is not possible to multiply an integer `2` by a dictionary."
   ]
  },
  {
   "cell_type": "code",
   "execution_count": null,
   "metadata": {},
   "outputs": [],
   "source": [
    "number = {}\n",
    "\n",
    "number * 2"
   ]
  },
  {
   "cell_type": "markdown",
   "metadata": {},
   "source": [
    "This is why we describe Python as a **dynamically typed** language - the type of the variable is defined (maybe even more than once) at runtime i.e. when the code is running. It provides a lot of freedom and allows Python to be used as a quick scripting language but it does have its drawbacks:\n",
    "\n",
    "If we had instead reassigned `number` to be a string as shown below, the operation would have proceeded just fine and our code would have continued to run with unexpected and potentially disastrous consequences. It might not be obvious why this could be disastrous now but when you have a large codebase these silent errors are often the bugs that will take you hours to figure out."
   ]
  },
  {
   "cell_type": "code",
   "execution_count": null,
   "metadata": {},
   "outputs": [],
   "source": [
    "number = \"five\"\n",
    "\n",
    "number * 2"
   ]
  },
  {
   "cell_type": "markdown",
   "metadata": {},
   "source": [
    "You should therefore try to **avoid reasssigning variables to different data types** as much as possible. It avoids confusion and minimises silent bugs occuring in your code. This is a major reason why other languages such as C# and Java are statically-typed instead i.e. a variable is defined as a string when created and can only ever be a string.\n",
    "\n",
    "There are some exceptions where reassigning to the same data type is not possible as described in the [linting](path_to_linting_notebook) document but otherwise this rule should be followed."
   ]
  },
  {
   "cell_type": "markdown",
   "metadata": {},
   "source": [
    "## Memory management\n",
    "\n",
    "Another key feature of Python that makes it so accessible is the automatic 'garbage collection' that it performs under the hood. \n",
    "\n",
    "Anyone who's written code in a language like C++ will likely still have recurring nightmares about having to manage the lifetime of variables manually. Not only do developers in these languages have to program the creation of these variables but they must also define when they are to be **deleted**. This can cause a whole host of issues that are difficult to debug.\n",
    "\n",
    "In Python, this is all taken care of automatically so all this section requires is that you count your blessings."
   ]
  },
  {
   "cell_type": "markdown",
   "metadata": {},
   "source": [
    "## Swapping variables\n",
    "\n",
    "The notation `a, b = b, a` is a neat trick that you can use to swap the values of the variables `a` and `b` quickly:"
   ]
  },
  {
   "cell_type": "code",
   "execution_count": 22,
   "metadata": {},
   "outputs": [
    {
     "name": "stdout",
     "output_type": "stream",
     "text": [
      "2 3\n",
      "3 2\n"
     ]
    }
   ],
   "source": [
    "a = 2\n",
    "b = 3\n",
    "print(a, b)\n",
    "\n",
    "a, b = b, a\n",
    "print(a, b)"
   ]
  }
 ],
 "metadata": {
  "kernelspec": {
   "display_name": "Python 3.10.7 64-bit (microsoft store)",
   "language": "python",
   "name": "python3"
  },
  "language_info": {
   "codemirror_mode": {
    "name": "ipython",
    "version": 3
   },
   "file_extension": ".py",
   "mimetype": "text/x-python",
   "name": "python",
   "nbconvert_exporter": "python",
   "pygments_lexer": "ipython3",
   "version": "3.10.7"
  },
  "orig_nbformat": 4,
  "vscode": {
   "interpreter": {
    "hash": "38f8aafa29e11df14487f05b729aeea108902a887a8d7829906851d0bff184dd"
   }
  }
 },
 "nbformat": 4,
 "nbformat_minor": 2
}
