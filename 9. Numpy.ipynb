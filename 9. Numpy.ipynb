{
  "nbformat": 4,
  "nbformat_minor": 0,
  "metadata": {
    "colab": {
      "provenance": [],
      "collapsed_sections": []
    },
    "kernelspec": {
      "name": "python3",
      "display_name": "Python 3"
    },
    "language_info": {
      "name": "python"
    }
  },
  "cells": [
    {
      "cell_type": "markdown",
      "source": [
        "# Introduction to NumPy\n",
        "\n",
        "\n",
        "NumPy is a python library which you will likely use a lot for data science.\n",
        "\n",
        "It provides a lot of numerical tools and calculators through it's functions.\n",
        "\n",
        "We start by importing numpy:"
      ],
      "metadata": {
        "id": "9OJENpQ5QiEF"
      }
    },
    {
      "cell_type": "code",
      "source": [
        "!pip install numpy"
      ],
      "metadata": {
        "id": "hl5HOQbNHXZR"
      },
      "execution_count": 5,
      "outputs": []
    },
    {
      "cell_type": "code",
      "execution_count": 1,
      "metadata": {
        "id": "zFuvUVL4P2e6"
      },
      "outputs": [],
      "source": [
        "import numpy as np"
      ]
    },
    {
      "cell_type": "markdown",
      "source": [
        "**Arrays**\n",
        "\n",
        "A numpy array is a collection of objects that is mutable, similar to a list in python."
      ],
      "metadata": {
        "id": "ermD_r-aRAju"
      }
    },
    {
      "cell_type": "code",
      "source": [
        "x = np.zeros(8)\n",
        "y = np.ones(5)"
      ],
      "metadata": {
        "id": "rFlIPYBcRNq3"
      },
      "execution_count": 2,
      "outputs": []
    },
    {
      "cell_type": "markdown",
      "source": [
        "We have just created an array of zeros by using the zeros function. The dimensions of this array are 8, so essentially we have a list of 8 zeros.\n",
        "\n",
        "Likewise, we have created an array of 5 ones.\n",
        "\n",
        "When we print these, we can see that they are floating point numbers."
      ],
      "metadata": {
        "id": "dJvJf2-fRhPf"
      }
    },
    {
      "cell_type": "code",
      "source": [
        "print(x)\n",
        "print(y)\n",
        "\n",
        "print(\"Numbers in this array are: \", type(x[1]))"
      ],
      "metadata": {
        "colab": {
          "base_uri": "https://localhost:8080/"
        },
        "id": "xvHWr0FvV_f9",
        "outputId": "20496c15-424a-4037-e54b-1aae72e4bdd1"
      },
      "execution_count": 3,
      "outputs": [
        {
          "output_type": "stream",
          "name": "stdout",
          "text": [
            "[0. 0. 0. 0. 0. 0. 0. 0.]\n",
            "[1. 1. 1. 1. 1.]\n",
            "Numbers in this array are:  <class 'numpy.float64'>\n"
          ]
        }
      ]
    },
    {
      "cell_type": "markdown",
      "source": [
        "Arrays have what is called a shape. We can view the shape of the array like so:"
      ],
      "metadata": {
        "id": "sBl2iZIXhG07"
      }
    },
    {
      "cell_type": "code",
      "source": [
        "print(\"shape of x:\", x.shape)"
      ],
      "metadata": {
        "colab": {
          "base_uri": "https://localhost:8080/"
        },
        "id": "4b98q6TrhLFm",
        "outputId": "5276c058-6605-4022-8d8b-36997b3b4066"
      },
      "execution_count": 5,
      "outputs": [
        {
          "output_type": "stream",
          "name": "stdout",
          "text": [
            "shape of a: (8,)\n"
          ]
        }
      ]
    },
    {
      "cell_type": "markdown",
      "source": [
        "This shows that x is 8 long in 1 dimension, however arrays in numpy can be multi-dimensional.\n",
        "\n",
        "We cannot change the size of the array and it is set to have 8 items in it.\n",
        "\n",
        "We can, however, change the shape so that it is 4 x 2 as a two dimensional array."
      ],
      "metadata": {
        "id": "kQ5pA89fKJbP"
      }
    },
    {
      "cell_type": "code",
      "source": [
        "x.shape = (4,2)\n",
        "print(\"shape of x:\", x.shape)"
      ],
      "metadata": {
        "colab": {
          "base_uri": "https://localhost:8080/"
        },
        "id": "qtruLYozKV02",
        "outputId": "dd993bd2-9533-4435-9fe0-e114b84542cf"
      },
      "execution_count": 9,
      "outputs": [
        {
          "output_type": "stream",
          "name": "stdout",
          "text": [
            "shape of x: (4, 2)\n"
          ]
        }
      ]
    },
    {
      "cell_type": "markdown",
      "source": [
        "Using lists of lists, we can also create multi-dimensional arrays."
      ],
      "metadata": {
        "id": "Thbhe9t5K85n"
      }
    },
    {
      "cell_type": "code",
      "source": [
        "alistoflists = [[1,2,3,4,5],[1,2,3,4,5]]\n",
        "z = np.array(alistoflists)\n",
        "\n",
        "print(\"shape of z:\", z.shape)"
      ],
      "metadata": {
        "colab": {
          "base_uri": "https://localhost:8080/"
        },
        "id": "QlT_eKQILB_p",
        "outputId": "dccb8291-594c-42aa-d1ae-b7db76d9600c"
      },
      "execution_count": 10,
      "outputs": [
        {
          "output_type": "stream",
          "name": "stdout",
          "text": [
            "shape of z: (2, 5)\n"
          ]
        }
      ]
    },
    {
      "cell_type": "markdown",
      "source": [
        "We can also create random arrays in NumPy. To do this we must first seed the random number generator.\n"
      ],
      "metadata": {
        "id": "UXNGTA_FNzHU"
      }
    },
    {
      "cell_type": "code",
      "source": [
        "np.random.seed(0)\n",
        "randArray = np.random.randint(10, size=35)\n",
        "print(\"Array randArray: \", randArray)"
      ],
      "metadata": {
        "colab": {
          "base_uri": "https://localhost:8080/"
        },
        "id": "dLLcV_chN_9J",
        "outputId": "283a4543-1f3f-4a6a-837d-12d5109585b6"
      },
      "execution_count": 13,
      "outputs": [
        {
          "output_type": "stream",
          "name": "stdout",
          "text": [
            "Array randArray:  [5 0 3 3 7 9 3 5 2 4 7 6 8 8 1 6 7 7 8 1 5 9 8 9 4 3 0 3 5 0 2 3 8 1 3]\n"
          ]
        }
      ]
    },
    {
      "cell_type": "markdown",
      "source": [
        "Now that we have covered the basics of arrays, let's go through how NumPy can be used to perform important calculations on arrays.\n",
        "\n",
        "NumPy has a lot of built in functions for mathematical calculations that can be performed on arrays and values. Below are a few examples:\n"
      ],
      "metadata": {
        "id": "r2KVPBQrOQcn"
      }
    },
    {
      "cell_type": "code",
      "source": [
        "print(\"sin:\" , np.sin(randArray))\n",
        "print(\"sum:\" , np.sum(randArray))\n",
        "print(\"prod:\" , np.prod(randArray))\n",
        "print(\"mean:\" , np.mean(randArray))\n",
        "print(\"std:\" , np.std(randArray))\n",
        "print(\"min:\" , np.min(randArray))\n",
        "print(\"Index of min value:\" , np.argmin(randArray))\n",
        "print(\"Index of max value:\" , np.argmax(randArray))"
      ],
      "metadata": {
        "colab": {
          "base_uri": "https://localhost:8080/"
        },
        "id": "FCH-H4S_Ohy-",
        "outputId": "5384b08a-4f18-4662-ce39-c3083fd53a04"
      },
      "execution_count": 15,
      "outputs": [
        {
          "output_type": "stream",
          "name": "stdout",
          "text": [
            "sin: [-0.95892427  0.          0.14112001  0.14112001  0.6569866   0.41211849\n",
            "  0.14112001 -0.95892427  0.90929743 -0.7568025   0.6569866  -0.2794155\n",
            "  0.98935825  0.98935825  0.84147098 -0.2794155   0.6569866   0.6569866\n",
            "  0.98935825  0.84147098 -0.95892427  0.41211849  0.98935825  0.41211849\n",
            " -0.7568025   0.14112001  0.          0.14112001 -0.95892427  0.\n",
            "  0.90929743  0.14112001  0.98935825  0.84147098  0.14112001]\n",
            "sum: 163\n",
            "prod: 0\n",
            "mean: 4.6571428571428575\n",
            "std: 2.8177281339289446\n",
            "min: 0\n",
            "Index of min value: 1\n",
            "Index of max value: 5\n"
          ]
        }
      ]
    },
    {
      "cell_type": "markdown",
      "source": [
        "We can also use numpy to perform masking tasks, which would otherwise require several if statements etc.\n",
        "\n",
        "Two examples are as follows:\n",
        "*   If we want to test if numbers are greater than 20, returning True/False\n",
        "*   If we want to mask for only numbers that are greater than 35.\n",
        "\n",
        "\n",
        "\n"
      ],
      "metadata": {
        "id": "lvPdeQVyPW03"
      }
    },
    {
      "cell_type": "code",
      "source": [
        "numbers = np.array([10,20,30,40,50])\n",
        "print(\"Tested for <20:\", numbers < 20)\n",
        "print(\"Masked for >35:\", numbers[numbers > 35])"
      ],
      "metadata": {
        "colab": {
          "base_uri": "https://localhost:8080/"
        },
        "id": "AOfjrblhQhhd",
        "outputId": "44b968b8-5f53-41d1-976a-b02e1b5c9c0e"
      },
      "execution_count": 17,
      "outputs": [
        {
          "output_type": "stream",
          "name": "stdout",
          "text": [
            "Tested for <20: [ True False False False False]\n",
            "Masked for >35: [40 50]\n"
          ]
        }
      ]
    },
    {
      "cell_type": "markdown",
      "source": [
        "Lastly, we will touch briefly on vectors. Vectors can be treated as arrays in NumPy.\n",
        "\n",
        "We can perform vector operations in a similar way to normal python arithmetic as demonstrated below."
      ],
      "metadata": {
        "id": "yi6B0RfKRXMX"
      }
    },
    {
      "cell_type": "code",
      "source": [
        "a = z+10\n",
        "print(\"Array z:\", z)\n",
        "print(\"Array a:\", a)\n",
        "\n",
        "az = a+z\n",
        "print(\"Array az:\", az)\n",
        "\n",
        "#dot product \n",
        "a_dot_z = a@z\n",
        "print(\"a z dot product:\", a_dot_z)"
      ],
      "metadata": {
        "id": "7MiheHX3RlGS"
      },
      "execution_count": null,
      "outputs": []
    }
  ]
}