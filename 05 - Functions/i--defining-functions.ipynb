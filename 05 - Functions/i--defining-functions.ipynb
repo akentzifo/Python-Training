{
 "cells": [
  {
   "cell_type": "markdown",
   "metadata": {},
   "source": [
    "# Defining a function\n",
    "\n",
    "First of all, what is a function?\n",
    "\n",
    "A function is a small, re-usable section of code that can take values in, perform operations and in some cases return values.\n",
    "\n",
    "A major benefit of defining a function is that it is written in only one location but can be applied anywhere else in your code however many times you like.\n",
    "\n",
    "The following is a function that adds two numbers together and prints the result:"
   ]
  },
  {
   "cell_type": "code",
   "execution_count": 8,
   "metadata": {},
   "outputs": [],
   "source": [
    "def add(x, y):\n",
    "    print(x + y)"
   ]
  },
  {
   "cell_type": "markdown",
   "metadata": {},
   "source": [
    "Every function declaration starts with the keyword `def` followed by a space and the name of the function.\n",
    "\n",
    "Within the parentheses are the *arguments* of the function i.e. the input values\n",
    "\n",
    "After the closing parentheses is always a colon and then the body of the function starts indented on the next line.\n",
    "\n",
    "## Calling a function\n",
    "\n",
    "To use a function, you *call* it using the following notation:"
   ]
  },
  {
   "cell_type": "code",
   "execution_count": 3,
   "metadata": {},
   "outputs": [
    {
     "data": {
      "text/plain": [
       "3"
      ]
     },
     "execution_count": 3,
     "metadata": {},
     "output_type": "execute_result"
    }
   ],
   "source": [
    "add(1, 2)"
   ]
  },
  {
   "cell_type": "markdown",
   "metadata": {},
   "source": [
    "You can assign the output of a function to a variable and then use that later on:"
   ]
  },
  {
   "cell_type": "code",
   "execution_count": 9,
   "metadata": {},
   "outputs": [
    {
     "data": {
      "text/plain": [
       "6"
      ]
     },
     "execution_count": 9,
     "metadata": {},
     "output_type": "execute_result"
    }
   ],
   "source": [
    "answer = add(1, 2)\n",
    "add(answer, 3)"
   ]
  },
  {
   "cell_type": "markdown",
   "metadata": {},
   "source": [
    "Or you could nest functions so that the result of one call becomes the argument of another. Storing in an intermediate variable as above is often the neatest method though."
   ]
  },
  {
   "cell_type": "code",
   "execution_count": 7,
   "metadata": {},
   "outputs": [
    {
     "data": {
      "text/plain": [
       "6"
      ]
     },
     "execution_count": 7,
     "metadata": {},
     "output_type": "execute_result"
    }
   ],
   "source": [
    "add(add(1, 2), 3) # (1 + 2) + 3"
   ]
  },
  {
   "cell_type": "code",
   "execution_count": null,
   "metadata": {},
   "outputs": [],
   "source": []
  }
 ],
 "metadata": {
  "kernelspec": {
   "display_name": "Python 3.10.7 64-bit (microsoft store)",
   "language": "python",
   "name": "python3"
  },
  "language_info": {
   "codemirror_mode": {
    "name": "ipython",
    "version": 3
   },
   "file_extension": ".py",
   "mimetype": "text/x-python",
   "name": "python",
   "nbconvert_exporter": "python",
   "pygments_lexer": "ipython3",
   "version": "3.10.7"
  },
  "orig_nbformat": 4,
  "vscode": {
   "interpreter": {
    "hash": "38f8aafa29e11df14487f05b729aeea108902a887a8d7829906851d0bff184dd"
   }
  }
 },
 "nbformat": 4,
 "nbformat_minor": 2
}
