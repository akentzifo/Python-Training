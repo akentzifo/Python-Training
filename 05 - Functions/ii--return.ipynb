{
 "cells": [
  {
   "cell_type": "markdown",
   "metadata": {},
   "source": [
    "# return\n",
    "\n",
    "Functions output values using the `return` keyword as shown below:"
   ]
  },
  {
   "cell_type": "code",
   "execution_count": 2,
   "metadata": {},
   "outputs": [
    {
     "data": {
      "text/plain": [
       "6"
      ]
     },
     "execution_count": 2,
     "metadata": {},
     "output_type": "execute_result"
    }
   ],
   "source": [
    "def multiply(x, y):\n",
    "    return x * y\n",
    "\n",
    "answer = multiply(2, 3)\n",
    "answer"
   ]
  },
  {
   "cell_type": "markdown",
   "metadata": {},
   "source": [
    "If a single value is returned from a function then no parentheses are required. Simply state `return`, a space and then the value to be returned.\n",
    "\n",
    "If multiple values are to be returned then return is called with parentheses. In this scenario the function returns a tuple containing the values, which can be unpacked using a series of comma separated variable names."
   ]
  },
  {
   "cell_type": "code",
   "execution_count": 6,
   "metadata": {},
   "outputs": [
    {
     "data": {
      "text/plain": [
       "(3, 4, 5)"
      ]
     },
     "execution_count": 6,
     "metadata": {},
     "output_type": "execute_result"
    }
   ],
   "source": [
    "def add_one(x, y, z):\n",
    "    return(x + 1, y + 1, z + 1)\n",
    "\n",
    "add_one(2, 3, 4)"
   ]
  },
  {
   "cell_type": "markdown",
   "metadata": {},
   "source": [
    "Once a return statement has been reached within a function, any subsequent code will not be executed. In the cell below, `1` will not be added to `product` because the first `return` statement has already triggered an exit from the function."
   ]
  },
  {
   "cell_type": "code",
   "execution_count": null,
   "metadata": {},
   "outputs": [],
   "source": [
    "def multiply_and_add(x, y):\n",
    "    product = x * y\n",
    "    return product\n",
    "\n",
    "    result = product + 1\n",
    "    return result"
   ]
  }
 ],
 "metadata": {
  "kernelspec": {
   "display_name": "Python 3.10.7 64-bit (microsoft store)",
   "language": "python",
   "name": "python3"
  },
  "language_info": {
   "codemirror_mode": {
    "name": "ipython",
    "version": 3
   },
   "file_extension": ".py",
   "mimetype": "text/x-python",
   "name": "python",
   "nbconvert_exporter": "python",
   "pygments_lexer": "ipython3",
   "version": "3.10.7"
  },
  "orig_nbformat": 4,
  "vscode": {
   "interpreter": {
    "hash": "38f8aafa29e11df14487f05b729aeea108902a887a8d7829906851d0bff184dd"
   }
  }
 },
 "nbformat": 4,
 "nbformat_minor": 2
}
