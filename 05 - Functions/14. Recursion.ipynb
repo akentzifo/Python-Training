{
  "nbformat": 4,
  "nbformat_minor": 0,
  "metadata": {
    "colab": {
      "provenance": [],
      "collapsed_sections": []
    },
    "kernelspec": {
      "name": "python3",
      "display_name": "Python 3"
    },
    "language_info": {
      "name": "python"
    }
  },
  "cells": [
    {
      "cell_type": "markdown",
      "source": [
        "# Recursion in Python\n",
        "\n",
        "If we wanted to calculate 5 factorial (5!), we would write it out as `5*4*3*2*1 = 120`.\n",
        "\n",
        "If we wanted to calculate this by using a recursive solution, we could break the problem down as shown below:\n",
        "```\n",
        "5! = 5*4*3*2*1 therefore 5! = 5*4!\n",
        "4! = 4*3*2*1 therefore 4! = 4*3!\n",
        "3! = 3*2*1 therefore 3! = 3*2!\n",
        "2 = 2*1! therefore 2! = 2 * 1! = 1\n",
        "```\n",
        "There are multiple ways that we could calculate factorial in python. Firstly, we could use an iterative solution, with a loop.\n",
        "\n",
        "We could do this by creating a factorial calculating function, and then calling it."
      ],
      "metadata": {
        "id": "IjH6mVsh70zX"
      }
    },
    {
      "cell_type": "code",
      "source": [
        "def factorial_iterative(num):\n",
        "    ans = 1\n",
        "    for i in range (1, num+1):\n",
        "        ans = ans * i\n",
        "\n",
        "    return ans\n",
        "\n",
        "print(factorial_iterative(5))"
      ],
      "metadata": {
        "colab": {
          "base_uri": "https://localhost:8080/"
        },
        "id": "7VpnYKNM8xEc",
        "outputId": "c2410c0f-aef1-4b51-e5df-e067f0b75754"
      },
      "execution_count": 3,
      "outputs": [
        {
          "output_type": "stream",
          "name": "stdout",
          "text": [
            "120\n"
          ]
        }
      ]
    },
    {
      "cell_type": "markdown",
      "source": [
        "The function above loops from 1 up until num, multiplying the number by the previous answer until the max is reached.\n",
        "\n",
        "There is a different way of doing this also, using recursion:\n",
        "\n",
        "*  A **recursive** function breaks a problem down into *small sub-problems*.\n",
        "\n",
        "*  The recursive function then **calls itself** upon the smaller sub-problems.\n",
        "\n",
        "*  Recursion **stops** once the terminal case or base case has been reached.\n",
        "\n",
        "\n",
        "\n",
        "\n"
      ],
      "metadata": {
        "id": "3MIOAXrV9RdL"
      }
    },
    {
      "cell_type": "code",
      "source": [
        "def factorial_recursive(num):\n",
        "    if num == 0 or num == 1:\n",
        "        return 1\n",
        "    else:\n",
        "        return num * factorial_recursive(num-1)\n",
        "\n",
        "print(factorial_recursive(5))"
      ],
      "metadata": {
        "colab": {
          "base_uri": "https://localhost:8080/"
        },
        "id": "ybOVc8T8D7qS",
        "outputId": "3676980e-0da0-4ee2-ce00-8a7b98022adb"
      },
      "execution_count": 6,
      "outputs": [
        {
          "output_type": "stream",
          "name": "stdout",
          "text": [
            "120\n"
          ]
        }
      ]
    },
    {
      "cell_type": "markdown",
      "source": [
        "The first part of the above function is the base case or terminal case. This returns 1 if num is equal to 0 or 1, so that the recursion may be stopped.\n",
        "\n",
        "If num is not yet 0 or 1, then the function returns num * factorial_recursive with num-1 supplied as an argument.\n",
        "\n",
        "For example, if the num argument here was equal to 5, then this new function would calculate 5 * 4 factorial and so on.\n",
        "\n",
        "Recursive programming is somewhat similar to dynamic programming. Both are ways of breaking down problems in code."
      ],
      "metadata": {
        "id": "s4olZqwMGDJ4"
      }
    }
  ]
}