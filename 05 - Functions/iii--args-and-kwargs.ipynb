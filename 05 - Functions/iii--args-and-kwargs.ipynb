{
 "cells": [
  {
   "cell_type": "markdown",
   "metadata": {},
   "source": [
    "# args and kwargs\n",
    "\n",
    "The input values for a function are known as either *positional arguments* or *keyword arguments*. Together, they are the arguments of a function.\n",
    "\n",
    "Positional arguments are those where the value is provided at the appropriate index within the parentheses to associate it with a certain argument.\n",
    "\n",
    "With keyword arguments, the value is explicitly linked to the argument via `=`.\n",
    "\n",
    "For example, in the code below when `divide` is called, `6` and `2` are positional arguments whereas `print = True` is a keyword argument."
   ]
  },
  {
   "cell_type": "code",
   "execution_count": null,
   "metadata": {},
   "outputs": [],
   "source": [
    "def divide(x, div, print):\n",
    "    result = x / div\n",
    "    if print:\n",
    "        print(result)\n",
    "    return result\n",
    "\n",
    "divide(6, 2, print=True)"
   ]
  },
  {
   "cell_type": "markdown",
   "metadata": {},
   "source": [
    "Keyword arguments make your code more readable. In the example above, simply passing `True` as a positional argument would leave the reader wondering why it was there. Of course they could go and find the function to discover what it does but that takes time and can be frustrating.\n",
    "\n",
    "You might wonder why not define every argument as a keyword argument if it's more explicit. It's a personal choice ultimately. With the `divide` function above, you could probably guess that the first argument `6` is getting divided by the second argument `2` based on how we normally talk about division. Only the `print` flag is a feature you weren't expecting and so needs clarifying.\n",
    "\n",
    "One aspect of arguments to note is that when you call a function, once a keyword argument has been declared, you are no longer able to define any positional arguments.\n",
    "\n",
    "The cell below will fail to run because not all keyword arguments are defined after positional arguments."
   ]
  },
  {
   "cell_type": "code",
   "execution_count": null,
   "metadata": {},
   "outputs": [],
   "source": [
    "divide(x=6, 2, print=True)"
   ]
  },
  {
   "cell_type": "markdown",
   "metadata": {},
   "source": [
    "Arguments can have default values, which are defined when writing the function. Similarly to positional and keyword arguments, arguments with default values can only be defined after arguments without default values. \n",
    "\n",
    "With the example above, we could have instead given a default value of `False` to the `print` argument so that we only have to state a value when it should be printed."
   ]
  },
  {
   "cell_type": "code",
   "execution_count": null,
   "metadata": {},
   "outputs": [],
   "source": [
    "def divide(x, div, print=False):\n",
    "    result = x / div\n",
    "    if print:\n",
    "        print(result)\n",
    "    return result\n",
    "\n",
    "divide(6, 2) # result printed\n",
    "divide(6, 2, print=True) # result not printed"
   ]
  }
 ],
 "metadata": {
  "kernelspec": {
   "display_name": "Python 3.10.7 64-bit (microsoft store)",
   "language": "python",
   "name": "python3"
  },
  "language_info": {
   "codemirror_mode": {
    "name": "ipython",
    "version": 3
   },
   "file_extension": ".py",
   "mimetype": "text/x-python",
   "name": "python",
   "nbconvert_exporter": "python",
   "pygments_lexer": "ipython3",
   "version": "3.10.7"
  },
  "orig_nbformat": 4,
  "vscode": {
   "interpreter": {
    "hash": "38f8aafa29e11df14487f05b729aeea108902a887a8d7829906851d0bff184dd"
   }
  }
 },
 "nbformat": 4,
 "nbformat_minor": 2
}
