{
  "nbformat": 4,
  "nbformat_minor": 0,
  "metadata": {
    "colab": {
      "provenance": [],
      "collapsed_sections": []
    },
    "kernelspec": {
      "name": "python3",
      "display_name": "Python 3"
    },
    "language_info": {
      "name": "python"
    }
  },
  "cells": [
    {
      "cell_type": "markdown",
      "source": [
        "# For loops\n",
        "\n",
        "The for loop is another loop construct available in python.\n",
        "\n",
        "It will loop for a certain number of times, as opposed to a while loop which keeps looping until a condition is no longer true.\n",
        "\n",
        "The for loop steps a variable through a series of values."
      ],
      "metadata": {
        "id": "xs9oV-rbFK_a"
      }
    },
    {
      "cell_type": "code",
      "source": [
        "for x in range (0,5):\n",
        "    print(\"x is equal to \", x)"
      ],
      "metadata": {
        "colab": {
          "base_uri": "https://localhost:8080/"
        },
        "id": "gmKEL4VwFK2-",
        "outputId": "29694d20-b5c9-4841-b59b-5b793167694c"
      },
      "execution_count": 4,
      "outputs": [
        {
          "output_type": "stream",
          "name": "stdout",
          "text": [
            "x is equal to  0\n",
            "x is equal to  1\n",
            "x is equal to  2\n",
            "x is equal to  3\n",
            "x is equal to  4\n"
          ]
        }
      ]
    },
    {
      "cell_type": "markdown",
      "source": [
        "We can pass various arguments into for loops. Try changing the finishNum value in the example below."
      ],
      "metadata": {
        "id": "Xk4ujinSGNI4"
      }
    },
    {
      "cell_type": "code",
      "source": [
        "finishNum = 8\n",
        "\n",
        "for x in range (0, finishNum):\n",
        "    print(\"x is equal to \", x)"
      ],
      "metadata": {
        "colab": {
          "base_uri": "https://localhost:8080/"
        },
        "id": "zzRsYDeHGpub",
        "outputId": "65ea2744-bcbc-4717-c5e4-e8c751434e48"
      },
      "execution_count": 6,
      "outputs": [
        {
          "output_type": "stream",
          "name": "stdout",
          "text": [
            "x is equal to  0\n",
            "x is equal to  1\n",
            "x is equal to  2\n",
            "x is equal to  3\n",
            "x is equal to  4\n",
            "x is equal to  5\n",
            "x is equal to  6\n",
            "x is equal to  7\n"
          ]
        }
      ]
    },
    {
      "cell_type": "markdown",
      "source": [
        "We can also use for loops to iterate through items in a list."
      ],
      "metadata": {
        "id": "mTS0sfDEHO1_"
      }
    },
    {
      "cell_type": "code",
      "source": [
        "shoppingList = [\"Tomatoes\", \"Peas\", \"Apples\", \"Rice\", \"Bananas\"]\n",
        "\n",
        "for item in shoppingList:\n",
        "    print(item, \"is item number\", shoppingList.index(item))\n",
        "\n",
        "print(\"End of shopping list!\")"
      ],
      "metadata": {
        "colab": {
          "base_uri": "https://localhost:8080/"
        },
        "id": "8C0K8y1zHRuY",
        "outputId": "9a6e46cc-0615-44db-aff7-861a34647cf1"
      },
      "execution_count": 12,
      "outputs": [
        {
          "output_type": "stream",
          "name": "stdout",
          "text": [
            "Tomatoes is item number 0\n",
            "Peas is item number 1\n",
            "Apples is item number 2\n",
            "Rice is item number 3\n",
            "Bananas is item number 4\n",
            "End of shopping list!\n"
          ]
        }
      ]
    },
    {
      "cell_type": "markdown",
      "source": [
        "Below is an example of how for loops can be used to generate running totals with user input."
      ],
      "metadata": {
        "id": "RJTllluxI4ZD"
      }
    },
    {
      "cell_type": "code",
      "source": [
        "numItems = int(input(\"How many items do you have in your basket? \"))\n",
        "\n",
        "totalPrice = 0.0\n",
        "\n",
        "for i in range(0, numItems):\n",
        "    price = float(input(\"Enter the price of item \" + str(i) + \":\"))\n",
        "    totalPrice = totalPrice + price\n",
        "\n",
        "print(\"Total Price is: £\", totalPrice)"
      ],
      "metadata": {
        "colab": {
          "base_uri": "https://localhost:8080/"
        },
        "id": "MJe5iXoQI9N0",
        "outputId": "67ea00c7-86fb-4cdc-e64d-3cc1b290a048"
      },
      "execution_count": 16,
      "outputs": [
        {
          "output_type": "stream",
          "name": "stdout",
          "text": [
            "How many items do you have in your basket? 3\n",
            "Enter the price of item 0:2\n",
            "Enter the price of item 1:3\n",
            "Enter the price of item 2:1\n",
            "Total Price is: £ 6.0\n"
          ]
        }
      ]
    },
    {
      "cell_type": "markdown",
      "source": [
        "In plain english, a for loop could be articulated as\n",
        "```\n",
        "for each variable in a given collection:\n",
        "    instructions\n",
        "```\n",
        "Unlike a while loop, a for loop will not continue indefinitely as its execution does not depend on a condition being true.\n"
      ],
      "metadata": {
        "id": "JEb7P_gJM1bn"
      }
    }
  ]
}