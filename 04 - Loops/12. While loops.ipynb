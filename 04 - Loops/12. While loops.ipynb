{
  "nbformat": 4,
  "nbformat_minor": 0,
  "metadata": {
    "colab": {
      "provenance": [],
      "collapsed_sections": []
    },
    "kernelspec": {
      "name": "python3",
      "display_name": "Python 3"
    },
    "language_info": {
      "name": "python"
    }
  },
  "cells": [
    {
      "cell_type": "code",
      "execution_count": null,
      "metadata": {
        "id": "iowwTbyA5Tn9"
      },
      "outputs": [],
      "source": []
    },
    {
      "cell_type": "markdown",
      "source": [
        "# While Loops\n",
        "\n",
        "Sometimes there is an action or task which needs to be repeated.\n",
        "\n",
        "In programming, we can use loops to avoid repeating blocks of code multiple times.\n",
        "\n",
        "Python provides **for** loops and **while** loops for this purpose.\n",
        "\n",
        "A **while loop** executes a conditional block *while* the condition is *true*.\n"
      ],
      "metadata": {
        "id": "MBcuyWXr5UT2"
      }
    },
    {
      "cell_type": "code",
      "source": [
        "myNumber = 5\n",
        "\n",
        "counter = 0\n",
        "\n",
        "while (counter < myNumber):\n",
        "    print(counter, \" is less than \", myNumber)\n",
        "    counter = counter + 1"
      ],
      "metadata": {
        "colab": {
          "base_uri": "https://localhost:8080/"
        },
        "id": "8eXDza5C_xYh",
        "outputId": "2972ee52-c86a-4ced-b175-acfb2237173e"
      },
      "execution_count": 1,
      "outputs": [
        {
          "output_type": "stream",
          "name": "stdout",
          "text": [
            "0  is less than  5\n",
            "1  is less than  5\n",
            "2  is less than  5\n",
            "3  is less than  5\n",
            "4  is less than  5\n"
          ]
        }
      ]
    },
    {
      "cell_type": "markdown",
      "source": [
        "At every iteration of the loop, python checks whether the condition is true, which in this example is the case if the value of counter is less than 5, and if so, it runs the block of code again.\n",
        "\n",
        "Eventually, counter will reach 5, and the condition will no longer be true, so python will skip the contents of the loop.\n",
        "\n",
        "However, this loop could theoretically go on forever if we didn't have the `counter = counter + 1` line, for example."
      ],
      "metadata": {
        "id": "9yHpK6dkAjLM"
      }
    },
    {
      "cell_type": "code",
      "source": [
        "myInput = input(\"Enter a whole number: \")\n",
        "\n",
        "while(myInput.isnumeric()):\n",
        "    print(\"That is a number\")\n",
        "    myInput = input(\"Enter another number please: \")\n",
        "\n",
        "print(\"That is not a valid number, goodbye.\")\n"
      ],
      "metadata": {
        "colab": {
          "base_uri": "https://localhost:8080/"
        },
        "id": "GDvP-aPtDf1D",
        "outputId": "2af8f44f-1a5b-416e-fbb6-866448a75545"
      },
      "execution_count": 1,
      "outputs": [
        {
          "output_type": "stream",
          "name": "stdout",
          "text": [
            "Enter a whole number: 2.2\n",
            "That is not a valid number, goodbye.\n"
          ]
        }
      ]
    },
    {
      "cell_type": "markdown",
      "source": [
        "Here is another example of how user input can be taken in a loop.\n",
        "\n",
        "When reading loops, they are fairly easy to understand, due to the resemblance \n",
        "of python to natural english.\n",
        "\n",
        "Next we will go over the other type of loops in python, For loops."
      ],
      "metadata": {
        "id": "Q5YpWxFHED6m"
      }
    }
  ]
}