{
  "nbformat": 4,
  "nbformat_minor": 0,
  "metadata": {
    "colab": {
      "provenance": [],
      "collapsed_sections": []
    },
    "kernelspec": {
      "name": "python3",
      "display_name": "Python 3"
    },
    "language_info": {
      "name": "python"
    }
  },
  "cells": [
    {
      "cell_type": "markdown",
      "source": [
        "This exercise will serve as an introduction to **Control flow**. This is where the order of instructions executed is determined by the values of variables and other inputs.\n",
        "\n",
        "Firstly, to recap some concepts:\n",
        "\n",
        "*   **Selection** is where the program chooses whether or not to execute particular code.\n",
        "*   **Functions** can be thought of as \"mini programs\" which perform particular tasks. They allow our code to be **modular**, and allow us to reuse code multiple times without retyping. An example of a function is print(), which performs its task withhout us having to code exactly how to print to a screen.\n",
        "\n",
        "\n",
        "# If statements\n",
        "Many questions can be answered with yes/no or true/false. Python encapsulates the true/false state of these questions in variables known as **booleans**.\n",
        "\n",
        "Python uses the **if statement** to execute a block of code **only if** a particular condition is **true**.\n",
        "\n"
      ],
      "metadata": {
        "id": "dI6mUj3MRDkb"
      }
    },
    {
      "cell_type": "code",
      "execution_count": 3,
      "metadata": {
        "colab": {
          "base_uri": "https://localhost:8080/"
        },
        "id": "OkNXXtWXJ11p",
        "outputId": "b00fd594-9950-41b4-f2c7-31a1c401ef68"
      },
      "outputs": [
        {
          "output_type": "stream",
          "name": "stdout",
          "text": [
            "Start of weather report.\n",
            "End of weather report.\n"
          ]
        }
      ],
      "source": [
        "raining = False\n",
        "\n",
        "print(\"Start of weather report.\")\n",
        "\n",
        "if(raining):\n",
        "    print(\"It is raining currently.\")\n",
        "\n",
        "print(\"End of weather report.\")"
      ]
    },
    {
      "cell_type": "markdown",
      "source": [
        "In the above example, the boolean variable raining is set to true, so the block within the if statement will run.\n",
        "\n",
        "If raining is set to False, then the conditional block will not be executed. Try this out by changing the code above and running it again. Note that True/False must start with a capital letter.\n",
        "\n",
        "We can use **If-Then-Else** statements, if we want our code to do something else if the boolean is false.  We can use 'else' to execute a seperate block of code, as shown in the example below."
      ],
      "metadata": {
        "id": "SF-hmwgMVVFy"
      }
    },
    {
      "cell_type": "code",
      "source": [
        "raining = False\n",
        "\n",
        "print(\"Start of weather report.\")\n",
        "\n",
        "if(raining):\n",
        "    print(\"It is raining currently.\")\n",
        "else:\n",
        "    print(\"It is NOT raining currently.\")\n",
        "\n",
        "print(\"End of weather report.\")"
      ],
      "metadata": {
        "colab": {
          "base_uri": "https://localhost:8080/"
        },
        "id": "baOhQyHRWazx",
        "outputId": "55808f1a-0f05-4a33-f17a-0ee0ea78ffd0"
      },
      "execution_count": 4,
      "outputs": [
        {
          "output_type": "stream",
          "name": "stdout",
          "text": [
            "Start of weather report.\n",
            "It is not raining currently.\n",
            "End of weather report.\n"
          ]
        }
      ]
    },
    {
      "cell_type": "markdown",
      "source": [
        "A famous programming joke goes like this:\n",
        "\n",
        "\n",
        "```\n",
        "A mans wife sent him to the shop: \"Please go to the shop and get some milk, and if they have eggs, get 6\".\n",
        "\n",
        "The man returns with 6 bottles of milk. When asked why, he replied \"They had eggs\".\n",
        "```\n",
        "Here, the man had interpreted his wife's request as an **if-statement**. He saw that the shop had eggs, so he brought home 6 bottles of milk. This is an example of how natural language requirements in code can be ambiguous at times."
      ],
      "metadata": {
        "id": "j_BNcZqqUf-G"
      }
    }
  ]
}