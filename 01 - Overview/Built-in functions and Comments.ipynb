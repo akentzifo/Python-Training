{
  "nbformat": 4,
  "nbformat_minor": 0,
  "metadata": {
    "colab": {
      "provenance": [],
      "collapsed_sections": []
    },
    "kernelspec": {
      "name": "python3",
      "display_name": "Python 3"
    },
    "language_info": {
      "name": "python"
    }
  },
  "cells": [
    {
      "cell_type": "markdown",
      "source": [
        "# Built-in Functions\n",
        "\n",
        "A computer program is a list of instructions. It tells the computer what to do to solve a problem.\n",
        "\n",
        "A computer program must be written in a specific way, and programming languages have different syntax requirements.\n",
        "\n",
        "Python as a programming language has a number of built-in functions that make it easy to perform certain tasks. Here we will cover some of the basic built in commands in python.\n",
        "\n",
        "# Print to screen\n",
        "The print() command is written like the example below, and it will print to the screen whatever we place within the brackets that follow. This is very commonly used to output text to the user. Use quotes when writing text."
      ],
      "metadata": {
        "id": "aP6J-xtdDdVJ"
      }
    },
    {
      "cell_type": "code",
      "source": [
        "print(\"Hello World!\")"
      ],
      "metadata": {
        "colab": {
          "base_uri": "https://localhost:8080/"
        },
        "id": "RSGbpt6mwNnZ",
        "outputId": "004e5b03-6616-4e11-d456-fd3ebe1125ee"
      },
      "execution_count": 1,
      "outputs": [
        {
          "output_type": "stream",
          "name": "stdout",
          "text": [
            "Hello World!\n"
          ]
        }
      ]
    },
    {
      "cell_type": "markdown",
      "source": [
        "# Get length\n",
        "\n",
        "The len() function is another example of a built in python function. It will display the length of a string (string = length of plain text) to the user, ie. the number of characters."
      ],
      "metadata": {
        "id": "YheYEIl0xYfR"
      }
    },
    {
      "cell_type": "code",
      "source": [
        "len(\"Peter piper picked a peck of pickled peppers!\")"
      ],
      "metadata": {
        "colab": {
          "base_uri": "https://localhost:8080/"
        },
        "id": "POirYXKNxY_w",
        "outputId": "f0f562d7-472a-4280-cfa8-b1634cec7454"
      },
      "execution_count": 4,
      "outputs": [
        {
          "output_type": "execute_result",
          "data": {
            "text/plain": [
              "45"
            ]
          },
          "metadata": {},
          "execution_count": 4
        }
      ]
    },
    {
      "cell_type": "markdown",
      "source": [
        "# Inputting data\n",
        "The input() function allows the user to input data to the program. We can provide a prompt (optional) by inserting some text in quote marks between the brackets."
      ],
      "metadata": {
        "id": "JTO32yPAx-51"
      }
    },
    {
      "cell_type": "code",
      "source": [
        "input(\"Enter some text: \")"
      ],
      "metadata": {
        "colab": {
          "base_uri": "https://localhost:8080/",
          "height": 53
        },
        "id": "iPjl8F1Ux1_x",
        "outputId": "05f19d96-96f0-4ce8-84c4-e158a579be8f"
      },
      "execution_count": 5,
      "outputs": [
        {
          "name": "stdout",
          "output_type": "stream",
          "text": [
            "Enter some text: 2345\n"
          ]
        },
        {
          "output_type": "execute_result",
          "data": {
            "text/plain": [
              "'2345'"
            ],
            "application/vnd.google.colaboratory.intrinsic+json": {
              "type": "string"
            }
          },
          "metadata": {},
          "execution_count": 5
        }
      ]
    },
    {
      "cell_type": "markdown",
      "source": [
        "# Comments\n",
        "\n",
        "Although technically not a built-in function, comments are something you will see a lot of whilst working in Python.\n",
        "\n",
        "These are bits of text marked with a # symbol, which tells Python to ignore them and not to interpet them as code.\n",
        "\n",
        "We use comments to annotate our code, or to leave reminders to ourself and for others who may read the code."
      ],
      "metadata": {
        "id": "2A6f-L4gyQ6b"
      }
    },
    {
      "cell_type": "code",
      "source": [
        "# This is a comment, python will ignore whatever I write here\n",
        "print(\"Hello World!\") # Comments can also be in line with actual code.\n",
        "# Running this program will cause only the non-commented text to be processed."
      ],
      "metadata": {
        "colab": {
          "base_uri": "https://localhost:8080/"
        },
        "id": "K7yKYxvV10cg",
        "outputId": "2372de8c-afb9-4519-e6e3-489e85902382"
      },
      "execution_count": 9,
      "outputs": [
        {
          "output_type": "stream",
          "name": "stdout",
          "text": [
            "Hello World!\n"
          ]
        }
      ]
    }
  ]
}