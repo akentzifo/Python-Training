{
  "cells": [
    {
      "cell_type": "markdown",
      "metadata": {
        "id": "t7hGPg1aZsDB"
      },
      "source": [
        "# Testing for the raising of exceptions\n",
        "\n",
        "Using the example class from the previous exercise, we will test how Pytest can be used to test that exeptions are raised when they should be.\n",
        "\n",
        "The class from `recipie.py` is shown below for reference, however there have been changes made to the `add_ingredient` method.\n",
        "\n",
        "The method now checks that the item being added is a string, and if not, then it raises a TypeError exeption with a customised message."
      ]
    },
    {
      "cell_type": "code",
      "execution_count": null,
      "metadata": {
        "id": "qrI_hNj5aMjt"
      },
      "outputs": [],
      "source": [
        "class Recipie:\n",
        "\n",
        "  def __init__(self):\n",
        "    self.items = []\n",
        "\n",
        "  def add_ingredient(self, item):\n",
        "    #add item to self.items list\n",
        "    if type(item) != str:\n",
        "      raise TypeError(\"Items must be in str format\")\n",
        "    self.items.append(item)\n",
        "\n",
        "  def num_ingredients(self):\n",
        "    #return number of items in self.items list\n",
        "    return len(self.items)\n",
        "\n",
        "  def get_ingredients(self):\n",
        "    return self.items"
      ]
    },
    {
      "cell_type": "markdown",
      "metadata": {},
      "source": [
        "When we, we expect to be thrown."
      ]
    }
  ],
  "metadata": {
    "colab": {
      "provenance": []
    },
    "kernelspec": {
      "display_name": "Python 3.10.6 64-bit",
      "language": "python",
      "name": "python3"
    },
    "language_info": {
      "name": "python",
      "version": "3.10.6"
    },
    "vscode": {
      "interpreter": {
        "hash": "971cac2d3a85aca30ddd2f84efc770d4552bac85453983cef0b0351cb5d9b584"
      }
    }
  },
  "nbformat": 4,
  "nbformat_minor": 0
}
