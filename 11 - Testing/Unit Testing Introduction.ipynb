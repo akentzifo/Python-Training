{
 "cells": [
  {
   "cell_type": "markdown",
   "metadata": {},
   "source": [
    "# Introduction to Unit Testing\n",
    "\n",
    "This module will cover Unit Testing. This concept will be broken down across multiple workbooks.\n",
    "\n",
    "Unit testing is a software testing method to test the quality of your code. Developers will typically write automated test scripts to ensure that every section of code performs the way it is intended to perform.\n",
    "\n",
    "This is made easier in Python by the Unit testing package that comes built in with Python.\n"
   ]
  },
  {
   "cell_type": "markdown",
   "metadata": {},
   "source": [
    "A Unit can be defined as several things, such as:\n",
    "* A function\n",
    "* An entire module\n",
    "* A class or method\n",
    "\n",
    "Regardless of the definition, each of these code features should be tested, particularly to see how they interact with other features of the code."
   ]
  }
 ],
 "metadata": {
  "language_info": {
   "name": "python"
  },
  "orig_nbformat": 4
 },
 "nbformat": 4,
 "nbformat_minor": 2
}
