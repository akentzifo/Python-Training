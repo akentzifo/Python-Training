{
  "nbformat": 4,
  "nbformat_minor": 0,
  "metadata": {
    "colab": {
      "provenance": []
    },
    "kernelspec": {
      "name": "python3",
      "display_name": "Python 3"
    },
    "language_info": {
      "name": "python"
    }
  },
  "cells": [
    {
      "cell_type": "markdown",
      "source": [
        "# Special features of PyTest\n",
        "\n",
        "Now we will introduce some Pytest concepts and their definitions:\n",
        "\n",
        "* **Markers** are used for adding info related to our tests eg. grouping\n",
        "* **Fixtures** are special functions that run before the tests we apply them to\n",
        "* **Hooks** are functions that modify the behaviour and execution of tests, and these are defined in a seperate file called conftest.py\n",
        "\n",
        "A useful tool is being able to call a test function with different parameters. This is done using a decorator that defines the parameters to pass to the test function.\n",
        "\n",
        "(Copy the code below again into the file from earlier before executing the !`pytest` command.)\n"
      ],
      "metadata": {
        "id": "kYQKCDEviUsV"
      }
    },
    {
      "cell_type": "code",
      "source": [
        "def addingfunc(x,y):\n",
        "    return x + y\n",
        "\n",
        "@pytest.mark.parametrize(\"x, y, z\", [[1,3,4],[2,5,7]])\n",
        "def test_addingfunc(x,y,z):\n",
        "    assert project.addingfunc(x,y) == z"
      ],
      "metadata": {
        "id": "xdV088iYiaQX"
      },
      "execution_count": null,
      "outputs": []
    }
  ]
}