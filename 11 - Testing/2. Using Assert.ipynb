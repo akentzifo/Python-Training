{
  "cells": [
    {
      "cell_type": "markdown",
      "metadata": {
        "id": "Yxv82ueAjX8Y"
      },
      "source": [
        "# Using assert\n",
        "Now that we have a basic understanding of the structure of unit tests, and of how an assert works, let us apply the assert command to a wider range of conditions for testing purposes.\n",
        "\n",
        "Consider the following class:"
      ]
    },
    {
      "cell_type": "code",
      "execution_count": 3,
      "metadata": {
        "id": "coZ8bmhbk206"
      },
      "outputs": [],
      "source": [
        "class Recipie:\n",
        "\n",
        "  def __init__(self):\n",
        "    self.items = []\n",
        "\n",
        "  def add_ingredient(self, item):\n",
        "    #add item to self.items list\n",
        "    self.items.append(item)\n",
        "\n",
        "  def num_ingredients(self):\n",
        "    #return number of items in self.items list\n",
        "    return len(self.items)\n",
        "\n",
        "  def get_ingredients(self):\n",
        "    return self.items"
      ]
    },
    {
      "cell_type": "markdown",
      "metadata": {
        "id": "ypXWzOA0mzyU"
      },
      "source": [
        "There is a copy of this class in a seperate file within the directory of this workbook called `recipie.py`.\n",
        "\n",
        "In the same directory there is also an empty file called `test_recipie.py`, where we will be implementing the unit tests for this exercise.\n",
        "\n",
        "Firstly, in the `test_recipie.py` file copy and paste the line below. This will **import** the `Recipie()` class which resides in `recipie.py`.\n",
        "\n",
        "We refer to the actual class using a capital letter, as it appears within the code of the module (the .py file)."
      ]
    },
    {
      "cell_type": "code",
      "execution_count": null,
      "metadata": {
        "id": "98OXdVHqoHkT"
      },
      "outputs": [],
      "source": [
        "from recipie import Recipie"
      ]
    },
    {
      "cell_type": "markdown",
      "metadata": {
        "id": "UOa24HcQoQlj"
      },
      "source": [
        "Now we can implement some test functions to test the various logic within our class.\n",
        "\n",
        "The naming convention requires that we start all test methods with `test_`.\n",
        "\n",
        "It is then good practice to describe the desired outcome for what you are testing.\n",
        "\n",
        "For example, we will firstly test if our code allows us to add an item to the list of ingredients within the recipie class.\n",
        "\n",
        "For this, we have named the following test `test_can_add_ingredient`."
      ]
    },
    {
      "cell_type": "code",
      "execution_count": null,
      "metadata": {},
      "outputs": [],
      "source": [
        "def test_can_add_ingredient():\n",
        "  cake_mix = Recipie()\n",
        "  cake_mix.add(\"egg\")\n",
        "  assert cake_mix.num_ingredients() == 1"
      ]
    },
    {
      "cell_type": "markdown",
      "metadata": {},
      "source": [
        "In this function, we will create an instance of the `Recipie()` class we imported, which we use for testing purposes. We have named this object cake_mix.\n",
        "\n",
        "Then we test exactly what the test name says: whether adding an ingredient works successfully!\n",
        "\n",
        "We test this by adding the string `\"egg\"` to the list within our `Recipe()` object that we have created.\n",
        "\n",
        "We then use `assert` to confirm whether the number of ingredients in the list is now 1.\n",
        "\n",
        "If cake_mix.num_ingredients is equal to 1, then the statement after the `assert` keyword is **true**, and the test should **pass**. \n",
        "\n",
        "Likewise, if cake_mix.num_ingredients is **not** equal to 1, then this would indicate that adding \"egg\" to the list has not worked, and therfore the statement after 'assert' would be **false**, and the test should **fail**.\n",
        "\n",
        "Next, something that we could test is that when an item is added to the recipie, it appears in the list of items.\n",
        "\n",
        "To perform this test, we can reuse a few lines of code from the previous test, then use a different assertion, as shown below:"
      ]
    },
    {
      "cell_type": "code",
      "execution_count": null,
      "metadata": {},
      "outputs": [],
      "source": [
        "def test_ingredient_added_appears_in_ingredients_list():\n",
        "    cake_mix = Recipie()\n",
        "    cake_mix.add(\"egg\")\n",
        "    assert \"egg\" in cake_mix.get_ingredients()"
      ]
    },
    {
      "cell_type": "markdown",
      "metadata": {},
      "source": [
        "Here we are asserting that the string `\"egg\"` appears in the list returned by calling the `get_ingredients` method, which returns the list of ingredients.\n",
        "\n",
        "You may find it a good practise to make a test intentionally fail when you first implement it, so that you can then ammend it for the test to pass. This can help clarify that the test is targeting the right parts of the code.\n",
        "\n",
        "For example, the test above should fail whilst the line containing `cake_mix.add(\"egg\")` is commented out. When this line of code is uncommented, the test should then pass.\n",
        "\n",
        "In the next exercise, we will explore how to test if an error is thown from our code when we would expect one to occur. We will do this without using the `assert` keyword."
      ]
    }
  ],
  "metadata": {
    "colab": {
      "provenance": []
    },
    "kernelspec": {
      "display_name": "Python 3.10.6 64-bit",
      "language": "python",
      "name": "python3"
    },
    "language_info": {
      "name": "python",
      "version": "3.10.6"
    },
    "vscode": {
      "interpreter": {
        "hash": "971cac2d3a85aca30ddd2f84efc770d4552bac85453983cef0b0351cb5d9b584"
      }
    }
  },
  "nbformat": 4,
  "nbformat_minor": 0
}
