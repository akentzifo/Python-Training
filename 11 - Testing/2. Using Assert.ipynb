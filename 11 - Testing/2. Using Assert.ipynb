{
  "nbformat": 4,
  "nbformat_minor": 0,
  "metadata": {
    "colab": {
      "provenance": []
    },
    "kernelspec": {
      "name": "python3",
      "display_name": "Python 3"
    },
    "language_info": {
      "name": "python"
    }
  },
  "cells": [
    {
      "cell_type": "markdown",
      "source": [
        "# Using assert\n",
        "Now that we have a basic understanding of the structure of unit tests, and of how an assert works, let us apply the assert command to a wider range of conditions for testing purposes.\n",
        "\n",
        "Consider the following class:"
      ],
      "metadata": {
        "id": "Yxv82ueAjX8Y"
      }
    },
    {
      "cell_type": "code",
      "source": [
        "class Recipie:\n",
        "\n",
        "  def __init__(self):\n",
        "    self.items = []\n",
        "\n",
        "  def add_ingredient(self, item):\n",
        "    self.items.append(item)\n",
        "\n",
        "  def num_ingredients(self):\n",
        "    return len(self.items)\n",
        "\n",
        "  def get_ingredients(self):\n",
        "    return self.items"
      ],
      "metadata": {
        "id": "coZ8bmhbk206"
      },
      "execution_count": 3,
      "outputs": []
    },
    {
      "cell_type": "markdown",
      "source": [
        "There is a copy of this class in a seperate file within the directory of this workbook called recipie.py.\n",
        "\n",
        "In the same directory there is also an empty file called `test_recipie.py`.\n",
        "\n",
        "We will be implementing the unit tests for this exercise in that file.\n",
        "\n",
        "Firstly, copy and paste the line below into the test file. This will **import** the `Recipie()` class which resides in `recipie.py`.\n",
        "\n",
        "We refer to the actual class using a capital letter, as it appears within the code of the module (the .py file)."
      ],
      "metadata": {
        "id": "ypXWzOA0mzyU"
      }
    },
    {
      "cell_type": "code",
      "source": [
        "from recipie import Recipie"
      ],
      "metadata": {
        "id": "98OXdVHqoHkT"
      },
      "execution_count": null,
      "outputs": []
    },
    {
      "cell_type": "markdown",
      "source": [
        "Now we can implement some test functions to test the various logic within our class."
      ],
      "metadata": {
        "id": "UOa24HcQoQlj"
      }
    }
  ]
}