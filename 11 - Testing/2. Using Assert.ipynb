{
  "cells": [
    {
      "cell_type": "markdown",
      "metadata": {
        "id": "Yxv82ueAjX8Y"
      },
      "source": [
        "# Using assert\n",
        "Now that we have a basic understanding of the structure of unit tests, and of how an assert works, let us apply the assert command to a wider range of conditions for testing purposes.\n",
        "\n",
        "Consider the following class:"
      ]
    },
    {
      "cell_type": "code",
      "execution_count": 3,
      "metadata": {
        "id": "coZ8bmhbk206"
      },
      "outputs": [],
      "source": [
        "class Recipie:\n",
        "\n",
        "  def __init__(self):\n",
        "    self.items = []\n",
        "\n",
        "  def add_ingredient(self, item):\n",
        "    #add item to self.items list\n",
        "    self.items.append(item)\n",
        "\n",
        "  def num_ingredients(self):\n",
        "    #return number of items in self.items list\n",
        "    return len(self.items)\n",
        "\n",
        "  def get_ingredients(self):\n",
        "    return self.items"
      ]
    },
    {
      "cell_type": "markdown",
      "metadata": {
        "id": "ypXWzOA0mzyU"
      },
      "source": [
        "There is a copy of this class in a seperate file within the directory of this workbook called `recipie.py`.\n",
        "\n",
        "In the same directory there is also an empty file called `test_recipie.py`, where we will be implementing the unit tests for this exercise.\n",
        "\n",
        "Firstly, in the `test_recipie.py` file copy and paste the line below. This will **import** the `Recipie()` class which resides in `recipie.py`.\n",
        "\n",
        "We refer to the actual class using a capital letter, as it appears within the code of the module (the .py file)."
      ]
    },
    {
      "cell_type": "code",
      "execution_count": null,
      "metadata": {
        "id": "98OXdVHqoHkT"
      },
      "outputs": [],
      "source": [
        "from recipie import Recipie"
      ]
    },
    {
      "cell_type": "markdown",
      "metadata": {
        "id": "UOa24HcQoQlj"
      },
      "source": [
        "Now we can implement some test functions to test the various logic within our class."
      ]
    }
  ],
  "metadata": {
    "colab": {
      "provenance": []
    },
    "kernelspec": {
      "display_name": "Python 3.10.6 64-bit",
      "language": "python",
      "name": "python3"
    },
    "language_info": {
      "name": "python",
      "version": "3.10.6"
    },
    "vscode": {
      "interpreter": {
        "hash": "971cac2d3a85aca30ddd2f84efc770d4552bac85453983cef0b0351cb5d9b584"
      }
    }
  },
  "nbformat": 4,
  "nbformat_minor": 0
}
