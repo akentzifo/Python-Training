{
  "cells": [
    {
      "cell_type": "markdown",
      "metadata": {
        "id": "MfXkg8dfBhX5"
      },
      "source": [
        "# Introduction to Unit Testing\n",
        "\n",
        "This module will cover Unit Testing. This concept will be broken down across multiple workbooks.\n",
        "\n",
        "Unit testing is a software testing method to test the quality of your code. Developers will typically write automated test scripts to ensure that every section of code performs the way it is intended to perform.\n",
        "\n",
        "If the application is working correctly, these tests should all pass, however if there are bugs in your code then some tests should fail.\n"
      ]
    },
    {
      "cell_type": "markdown",
      "metadata": {
        "id": "t4Z2p9o_BhX7"
      },
      "source": [
        "A **Unit** can be defined as several things, such as:\n",
        "* A function\n",
        "* An entire module\n",
        "* A class or method\n",
        "\n",
        "\n",
        "Typically, you want the 'unit' to be as small as possible, or the smallest piece of code that can be logically isolated.\n",
        "\n",
        "Regardless of the definition, each of these unit features should be tested, particularly to see how they interact with other features of the code."
      ]
    },
    {
      "cell_type": "markdown",
      "metadata": {
        "id": "MSZVy6hjT2de"
      },
      "source": [
        "# PyTest\n",
        "There are two  main unit testing packages used in python: `unittest` and `pytest`. We will be focusing on Pytest as this is the one most developers use today. This is not included in the python distribution, so should be installed.\n",
        "\n",
        "Pytest has some features which make it a good testing tool. For instance, it automatically discovers tests in your code and it has useful features such as markers and fixtures, which will be explained later.\n",
        "\n",
        "In this workbook, we will introduce basic assertion testing and fixtures."
      ]
    },
    {
      "cell_type": "code",
      "execution_count": 1,
      "metadata": {
        "colab": {
          "base_uri": "https://localhost:8080/"
        },
        "id": "CBD1YZA2BhX8",
        "outputId": "eff52527-0fce-458d-c5b3-fdf7da3fd631"
      },
      "outputs": [
        {
          "name": "stdout",
          "output_type": "stream",
          "text": [
            "Requirement already satisfied: pytest in c:\\users\\adam\\anaconda3\\lib\\site-packages (0.0.0)\n",
            "Requirement already satisfied: attrs>=17.4.0 in c:\\users\\adam\\anaconda3\\lib\\site-packages (from pytest) (20.3.0)\n",
            "Requirement already satisfied: iniconfig in c:\\users\\adam\\anaconda3\\lib\\site-packages (from pytest) (1.1.1)\n",
            "Requirement already satisfied: packaging in c:\\users\\adam\\anaconda3\\lib\\site-packages (from pytest) (20.4)\n",
            "Requirement already satisfied: pluggy<1.0,>=0.12 in c:\\users\\adam\\anaconda3\\lib\\site-packages (from pytest) (0.13.1)\n",
            "Requirement already satisfied: py>=1.8.2 in c:\\users\\adam\\anaconda3\\lib\\site-packages (from pytest) (1.9.0)\n",
            "Requirement already satisfied: toml in c:\\users\\adam\\anaconda3\\lib\\site-packages (from pytest) (0.10.1)\n",
            "Requirement already satisfied: atomicwrites>=1.0 in c:\\users\\adam\\anaconda3\\lib\\site-packages (from pytest) (1.4.0)\n",
            "Requirement already satisfied: colorama in c:\\users\\adam\\anaconda3\\lib\\site-packages (from pytest) (0.4.4)\n",
            "Requirement already satisfied: six in c:\\users\\adam\\anaconda3\\lib\\site-packages (from packaging->pytest) (1.15.0)\n",
            "Requirement already satisfied: pyparsing>=2.0.2 in c:\\users\\adam\\anaconda3\\lib\\site-packages (from packaging->pytest) (2.4.7)\n"
          ]
        }
      ],
      "source": [
        "!pip install pytest\n",
        "import pytest"
      ]
    },
    {
      "cell_type": "markdown",
      "metadata": {
        "id": "Bjo9dALNBhX9"
      },
      "source": [
        "The first step when writing any unit tests would be to import `pytest` as we have done.\n",
        "\n",
        "Usually, you would write your tests in a seperate module (python file) within the same directory as the code which you are testing.\n",
        "\n",
        "Let us start by creating a simple function."
      ]
    },
    {
      "cell_type": "code",
      "execution_count": 4,
      "metadata": {
        "id": "R9j9jExzBhX-"
      },
      "outputs": [],
      "source": [
        "def func(x):\n",
        "    return x + 5"
      ]
    },
    {
      "cell_type": "markdown",
      "metadata": {
        "id": "u0F_A2R0BhX-"
      },
      "source": [
        "Now let's create a basic test function.\n",
        "\n",
        "We start the name of this function with '`test_`' so that pytest will recognise that it is a unit test.\n",
        "\n",
        "Here we use the command `assert` which is a key part of unit testing."
      ]
    },
    {
      "cell_type": "code",
      "execution_count": 5,
      "metadata": {
        "colab": {
          "base_uri": "https://localhost:8080/"
        },
        "id": "GgVVdY1nBhX_",
        "outputId": "7cf96dec-8c2b-4521-b603-dcd58900575f"
      },
      "outputs": [
        {
          "name": "stdout",
          "output_type": "stream",
          "text": [
            "============================= test session starts =============================\n",
            "platform win32 -- Python 3.8.5, pytest-6.1.1, py-1.9.0, pluggy-0.13.1\n",
            "rootdir: c:\\Users\\Adam\\Desktop\\Python-Training\\11 - Testing\n",
            "collected 1 item\n",
            "\n",
            "test_func.py .                                                           [100%]\n",
            "\n",
            "============================== warnings summary ===============================\n",
            "..\\..\\..\\anaconda3\\lib\\site-packages\\pyreadline\\py3k_compat.py:8\n",
            "  C:\\Users\\Adam\\anaconda3\\lib\\site-packages\\pyreadline\\py3k_compat.py:8: DeprecationWarning: Using or importing the ABCs from 'collections' instead of from 'collections.abc' is deprecated since Python 3.3, and in 3.9 it will stop working\n",
            "    return isinstance(x, collections.Callable)\n",
            "\n",
            "-- Docs: https://docs.pytest.org/en/stable/warnings.html\n",
            "======================== 1 passed, 1 warning in 0.10s =========================\n"
          ]
        }
      ],
      "source": [
        "def test_func():\n",
        "    assert func(1) == 6\n",
        "\n",
        "!pytest"
      ]
    },
    {
      "cell_type": "markdown",
      "metadata": {
        "id": "3x1moW4UBhYA"
      },
      "source": [
        "Copy and paste the above code to a file, and give it a filename starting with 'test_' such as `test_c\n",
        "```\n",
        "# This is formatted as code\n",
        "```\n",
        "\n",
        "\n",
        "If the conditional statement after the `assert` command is true, the test will **pass**, likewise if it is false then the test will **fail**.\n",
        "\n",
        "To test this function, we are asserting that it will return a value we expect it to return.\n",
        "\n",
        "If we change the argument from '1' to a different number such as 4, we would then have to adjust the equals to value to 9 for the test to pass.\n",
        "\n",
        "We can also run multiple tests on the same unit as shown below."
      ]
    },
    {
      "cell_type": "code",
      "execution_count": null,
      "metadata": {
        "id": "v8DGC5l2BhYA"
      },
      "outputs": [],
      "source": [
        "def test_func_2():\n",
        "    x = 2\n",
        "    y = 4\n",
        "    assert x == y\n",
        "\n",
        "def test_func_3():\n",
        "    a = 15\n",
        "    b = 20\n",
        "    assert a+5 == b"
      ]
    },
    {
      "cell_type": "markdown",
      "metadata": {
        "id": "p0kdhAMABhYB"
      },
      "source": [
        "# Special features of PyTest\n",
        "\n",
        "Now we will introduce some Pytest concepts and their definitions:\n",
        "\n",
        "* **Markers** are used for adding info related to our tests eg. grouping\n",
        "* **Fixtures** are special functions that run before the tests we apply them to\n",
        "* **Hooks** are functions that modify the behaviour and execution of tests, and these are defined in a seperate file called conftest.py\n",
        "\n",
        "A useful tool is being able to call a test function with different parameters. This is done using a decorator that defines the parameters to pass to the test function.\n"
      ]
    },
    {
      "cell_type": "code",
      "execution_count": null,
      "metadata": {
        "id": "4QFV1hphBhYB"
      },
      "outputs": [],
      "source": [
        "def addingfunc(x,y)\n",
        "    return x + y\n",
        "\n",
        "@pytest.mark.parametrize(\"x, y, z\", [[1,3,4],[2,5,7]])\n",
        "def test_addingfunc(x,y,z):\n",
        "    assert project.addingfunc(x,y) == z"
      ]
    }
  ],
  "metadata": {
    "colab": {
      "collapsed_sections": [],
      "provenance": []
    },
    "kernelspec": {
      "display_name": "Python 3.8.5 ('base')",
      "language": "python",
      "name": "python3"
    },
    "language_info": {
      "codemirror_mode": {
        "name": "ipython",
        "version": 3
      },
      "file_extension": ".py",
      "mimetype": "text/x-python",
      "name": "python",
      "nbconvert_exporter": "python",
      "pygments_lexer": "ipython3",
      "version": "3.8.5"
    },
    "orig_nbformat": 4,
    "vscode": {
      "interpreter": {
        "hash": "77aa5c7a8032890130e9a412da4828609b1dfa25c62620094c03af7a5cea44b0"
      }
    }
  },
  "nbformat": 4,
  "nbformat_minor": 0
}
