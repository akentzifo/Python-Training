{
  "cells": [
    {
      "cell_type": "markdown",
      "metadata": {
        "id": "MfXkg8dfBhX5"
      },
      "source": [
        "# Introduction to Unit Testing\n",
        "\n",
        "This module will cover Unit Testing. This concept will be broken down across multiple workbooks.\n",
        "\n",
        "Unit testing is a software testing method to test the quality of your code. Developers will typically write automated test scripts to ensure that every section of code performs the way it is intended to perform.\n",
        "\n",
        "If the application is working correctly, these tests should all pass, however if there are bugs in your code then some tests should fail.\n"
      ]
    },
    {
      "cell_type": "markdown",
      "metadata": {
        "id": "t4Z2p9o_BhX7"
      },
      "source": [
        "A **Unit** can be defined as several things, such as:\n",
        "* A function\n",
        "* An entire module\n",
        "* A class or method\n",
        "\n",
        "\n",
        "Typically, you want the 'unit' to be as small as possible, or the smallest piece of code that can be logically isolated.\n",
        "\n",
        "Regardless of the definition, each of these unit features should be tested, particularly to see how they interact with other features of the code."
      ]
    },
    {
      "cell_type": "markdown",
      "source": [
        "# PyTest\n",
        "There are two  main unit testing packages used in python: `unittest` and `pytest`. We will be focusing on Pytest as this is the one most developers use today. This is not included in the python distribution, so should be installed.\n",
        "\n",
        "Pytest has some features which make it a good testing tool. For instance, it automatically discovers tests in your code and it has useful features such as markers and fixtures, which will be explained later.\n",
        "\n",
        "In this workbook, we will introduce basic assertion testing and fixtures."
      ],
      "metadata": {
        "id": "MSZVy6hjT2de"
      }
    },
    {
      "cell_type": "code",
      "execution_count": 1,
      "metadata": {
        "vscode": {
          "languageId": "plaintext"
        },
        "id": "CBD1YZA2BhX8",
        "colab": {
          "base_uri": "https://localhost:8080/"
        },
        "outputId": "eff52527-0fce-458d-c5b3-fdf7da3fd631"
      },
      "outputs": [
        {
          "output_type": "stream",
          "name": "stdout",
          "text": [
            "Looking in indexes: https://pypi.org/simple, https://us-python.pkg.dev/colab-wheels/public/simple/\n",
            "Requirement already satisfied: pytest in /usr/local/lib/python3.7/dist-packages (3.6.4)\n",
            "Requirement already satisfied: attrs>=17.4.0 in /usr/local/lib/python3.7/dist-packages (from pytest) (22.1.0)\n",
            "Requirement already satisfied: six>=1.10.0 in /usr/local/lib/python3.7/dist-packages (from pytest) (1.15.0)\n",
            "Requirement already satisfied: atomicwrites>=1.0 in /usr/local/lib/python3.7/dist-packages (from pytest) (1.4.1)\n",
            "Requirement already satisfied: setuptools in /usr/local/lib/python3.7/dist-packages (from pytest) (57.4.0)\n",
            "Requirement already satisfied: py>=1.5.0 in /usr/local/lib/python3.7/dist-packages (from pytest) (1.11.0)\n",
            "Requirement already satisfied: more-itertools>=4.0.0 in /usr/local/lib/python3.7/dist-packages (from pytest) (8.14.0)\n",
            "Requirement already satisfied: pluggy<0.8,>=0.5 in /usr/local/lib/python3.7/dist-packages (from pytest) (0.7.1)\n"
          ]
        }
      ],
      "source": [
        "!pip install pytest\n",
        "import pytest"
      ]
    },
    {
      "cell_type": "markdown",
      "metadata": {
        "id": "Bjo9dALNBhX9"
      },
      "source": [
        "The first step when writing any unit tests would be to import `pytest` as we have done.\n",
        "\n",
        "Usually, you would write your tests in a seperate module (python file) within the same directory as the code which you are testing.\n",
        "\n",
        "Let us start by creating a simple function."
      ]
    },
    {
      "cell_type": "code",
      "execution_count": 2,
      "metadata": {
        "vscode": {
          "languageId": "plaintext"
        },
        "id": "R9j9jExzBhX-"
      },
      "outputs": [],
      "source": [
        "def func(x):\n",
        "    return x + 5"
      ]
    },
    {
      "cell_type": "markdown",
      "metadata": {
        "id": "u0F_A2R0BhX-"
      },
      "source": [
        "Now let's create a basic test function.\n",
        "\n",
        "We start the name of this function with '`test_`' so that pytest will recognise that it is a unit test.\n",
        "\n",
        "Here we use the command `assert` which is a key part of unit testing.\n",
        "\n",
        "Before running the block below, copy the above code and paste it into the file `test_coding_exercise.py` which is in the same directory as this notebook."
      ]
    },
    {
      "cell_type": "code",
      "execution_count": 7,
      "metadata": {
        "vscode": {
          "languageId": "plaintext"
        },
        "id": "GgVVdY1nBhX_",
        "colab": {
          "base_uri": "https://localhost:8080/"
        },
        "outputId": "7cf96dec-8c2b-4521-b603-dcd58900575f"
      },
      "outputs": [
        {
          "output_type": "stream",
          "name": "stdout",
          "text": [
            "\u001b[1m============================= test session starts ==============================\u001b[0m\n",
            "platform linux -- Python 3.7.15, pytest-3.6.4, py-1.11.0, pluggy-0.7.1\n",
            "rootdir: /content, inifile:\n",
            "plugins: typeguard-2.7.1\n",
            "\u001b[1m\rcollecting 0 items                                                             \u001b[0m\u001b[1m\rcollected 0 items                                                              \u001b[0m\n",
            "\n",
            "\u001b[33m\u001b[1m========================= no tests ran in 0.00 seconds =========================\u001b[0m\n"
          ]
        }
      ],
      "source": [
        "def test_func():\n",
        "    assert func(1) == 6"
      ]
    },
    {
      "cell_type": "markdown",
      "source": [
        "Now run the block below (The `!` means that this will be run as a command in terminal)."
      ],
      "metadata": {
        "id": "jn4Zgdb9gkJq"
      }
    },
    {
      "cell_type": "code",
      "source": [
        "!pytest"
      ],
      "metadata": {
        "id": "yXrax50bdH4k"
      },
      "execution_count": null,
      "outputs": []
    },
    {
      "cell_type": "markdown",
      "metadata": {
        "id": "3x1moW4UBhYA"
      },
      "source": [
        "If the conditional statement after the `assert` command is true, the test will **pass**, likewise if it is false then the test will **fail**.\n",
        "\n",
        "To test this function, we are asserting that it will return a value we expect it to return.\n",
        "\n",
        "If we change the argument from '1' to a different number such as 4, we would then have to adjust the equals to value to 9 for the test to pass.\n",
        "\n",
        "We can also run multiple tests on the same unit as shown below. Like before, copy the code below to the test file before running the block afterwards with the !pytest terminal command."
      ]
    },
    {
      "cell_type": "code",
      "execution_count": null,
      "metadata": {
        "vscode": {
          "languageId": "plaintext"
        },
        "id": "v8DGC5l2BhYA"
      },
      "outputs": [],
      "source": [
        "def test_func_2():\n",
        "    x = 2\n",
        "    y = 4\n",
        "    assert x == y\n",
        "\n",
        "def test_func_3():\n",
        "    a = 15\n",
        "    b = 20\n",
        "    assert a+5 == b"
      ]
    },
    {
      "cell_type": "code",
      "source": [
        "!pytest"
      ],
      "metadata": {
        "id": "a8zkFRptdAom"
      },
      "execution_count": null,
      "outputs": []
    },
    {
      "cell_type": "markdown",
      "source": [
        "In the next exercise, we will demonstrate how to assert different condtions in our unit tests, to access more relevant ways of testing logic."
      ],
      "metadata": {
        "id": "57xInP7-inlB"
      }
    }
  ],
  "metadata": {
    "language_info": {
      "name": "python"
    },
    "orig_nbformat": 4,
    "colab": {
      "provenance": [],
      "collapsed_sections": []
    },
    "kernelspec": {
      "name": "python3",
      "display_name": "Python 3"
    }
  },
  "nbformat": 4,
  "nbformat_minor": 0
}