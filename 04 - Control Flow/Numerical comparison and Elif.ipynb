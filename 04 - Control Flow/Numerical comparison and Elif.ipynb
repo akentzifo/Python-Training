{
  "nbformat": 4,
  "nbformat_minor": 0,
  "metadata": {
    "colab": {
      "provenance": [],
      "collapsed_sections": []
    },
    "kernelspec": {
      "name": "python3",
      "display_name": "Python 3"
    },
    "language_info": {
      "name": "python"
    }
  },
  "cells": [
    {
      "cell_type": "code",
      "execution_count": null,
      "metadata": {
        "id": "3vB0mo0nYF7K"
      },
      "outputs": [],
      "source": []
    },
    {
      "cell_type": "markdown",
      "source": [
        "# Numerical Comparison and Else-If statements\n",
        "\n",
        "There are many situations in life where we want to compare numerical \n",
        "values, eg. Which item is more expensive? Which house has more bedrooms?\n",
        "\n",
        "In each case, we can reframe the questions as yes/no questions, which are Booleans, eg. Is item A more expensive than item B? Does house A have more bedrooms than house B?\n",
        "\n",
        "In python, we can use comparison operators to compare two numerical variables.\n",
        "\n",
        "The comparison operators are summarised below.\n",
        "\n",
        "\n",
        "```\n",
        ">  Greater Than\n",
        "<  Less Than\n",
        ">= Greater than or equal to\n",
        "<= Less than or equal to\n",
        "== Equal to\n",
        "!= Not equal to\n",
        "```\n",
        "Note that a double equals sign is used for 'equal to', as a single equals sign is only used for variable assignment.\n",
        "\n",
        "If we use any of these operators in a statement, it will return a boolean.\n",
        "\n",
        "In the example below, the condition of the if statment `heightA > heightB` will either be True or False."
      ],
      "metadata": {
        "id": "bRlc6PFnYHrp"
      }
    },
    {
      "cell_type": "code",
      "source": [
        "heightA = float(input(\"Please enter the height of person A: \"))\n",
        "heightB = float(input(\"Please enter the height of person B: \"))\n",
        "\n",
        "if(heightA > heightB):\n",
        "    print(\"A is taller!\")"
      ],
      "metadata": {
        "id": "MtWt4S4nBiQa"
      },
      "execution_count": null,
      "outputs": []
    },
    {
      "cell_type": "markdown",
      "source": [
        "We can use elif (short for else-if) blocks to provide execution routes for alternative conditions.\n"
      ],
      "metadata": {
        "id": "aR-yk9inCmCt"
      }
    },
    {
      "cell_type": "code",
      "source": [
        "heightA = float(input(\"Please enter the height of person A: \"))\n",
        "heightB = float(input(\"Please enter the height of person B: \"))\n",
        "\n",
        "if(heightA > heightB):\n",
        "    print(\"A is taller!\")\n",
        "\n",
        "elif(heightA < heightB):\n",
        "    print(\"B is taller!\")\n",
        "\n",
        "elif(heightA == heightB):\n",
        "    print(\"They are the same height!\")\n",
        "\n",
        "else:\n",
        "    print(\"Something has gone wrong...\")"
      ],
      "metadata": {
        "colab": {
          "base_uri": "https://localhost:8080/"
        },
        "id": "uI5pBHsFCyvE",
        "outputId": "81eab264-557c-4490-9da2-d24a858bf522"
      },
      "execution_count": 1,
      "outputs": [
        {
          "output_type": "stream",
          "name": "stdout",
          "text": [
            "Please enter the height of person A: 23.234\n",
            "Please enter the height of person B: 23.21\n",
            "A is taller!\n"
          ]
        }
      ]
    },
    {
      "cell_type": "markdown",
      "source": [
        "It is good practice to have an else clause at the end of an if statement, to account for outcomes you have not yet thought of, to prevent the program crashing."
      ],
      "metadata": {
        "id": "aCMZturZC9mr"
      }
    }
  ]
}