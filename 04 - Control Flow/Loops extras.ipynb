{
  "nbformat": 4,
  "nbformat_minor": 0,
  "metadata": {
    "colab": {
      "provenance": [],
      "collapsed_sections": []
    },
    "kernelspec": {
      "name": "python3",
      "display_name": "Python 3"
    },
    "language_info": {
      "name": "python"
    }
  },
  "cells": [
    {
      "cell_type": "markdown",
      "source": [
        "# Loops: Extras\n",
        "\n",
        "There are a few extra commands we can incoporate into our loops to gain more functionality.\n",
        "\n",
        "An example of this is the inclusion of if statements within either type of loop.\n",
        "\n"
      ],
      "metadata": {
        "id": "1sFvjqfTT9y4"
      }
    },
    {
      "cell_type": "code",
      "execution_count": 3,
      "metadata": {
        "colab": {
          "base_uri": "https://localhost:8080/",
          "height": 555
        },
        "id": "jfNsJBL7T9Ss",
        "outputId": "10c10b56-7218-4d1c-b98c-3c5d9cf4f9a3"
      },
      "outputs": [
        {
          "output_type": "stream",
          "name": "stdout",
          "text": [
            "Enter a whole number: 7\n",
            "That is a number\n",
            "By the way, your number is below 10.\n",
            "Enter another number please: 8\n",
            "That is a number\n",
            "By the way, your number is below 10.\n",
            "Enter another number please: 99\n",
            "That is a number\n",
            "By the way your number is 10 or greater.\n"
          ]
        },
        {
          "output_type": "error",
          "ename": "KeyboardInterrupt",
          "evalue": "ignored",
          "traceback": [
            "\u001b[0;31m---------------------------------------------------------------------------\u001b[0m",
            "\u001b[0;31mKeyboardInterrupt\u001b[0m                         Traceback (most recent call last)",
            "\u001b[0;32m<ipython-input-3-bc0c5f0fd027>\u001b[0m in \u001b[0;36m<module>\u001b[0;34m\u001b[0m\n\u001b[1;32m      9\u001b[0m         \u001b[0mprint\u001b[0m\u001b[0;34m(\u001b[0m\u001b[0;34m\"By the way your number is 10 or greater.\"\u001b[0m\u001b[0;34m)\u001b[0m\u001b[0;34m\u001b[0m\u001b[0;34m\u001b[0m\u001b[0m\n\u001b[1;32m     10\u001b[0m \u001b[0;34m\u001b[0m\u001b[0m\n\u001b[0;32m---> 11\u001b[0;31m     \u001b[0mmyInput\u001b[0m \u001b[0;34m=\u001b[0m \u001b[0minput\u001b[0m\u001b[0;34m(\u001b[0m\u001b[0;34m\"Enter another number please: \"\u001b[0m\u001b[0;34m)\u001b[0m\u001b[0;34m\u001b[0m\u001b[0;34m\u001b[0m\u001b[0m\n\u001b[0m\u001b[1;32m     12\u001b[0m \u001b[0;34m\u001b[0m\u001b[0m\n\u001b[1;32m     13\u001b[0m \u001b[0mprint\u001b[0m\u001b[0;34m(\u001b[0m\u001b[0;34m\"That is not a valid number, goodbye.\"\u001b[0m\u001b[0;34m)\u001b[0m\u001b[0;34m\u001b[0m\u001b[0;34m\u001b[0m\u001b[0m\n",
            "\u001b[0;32m/usr/local/lib/python3.7/dist-packages/ipykernel/kernelbase.py\u001b[0m in \u001b[0;36mraw_input\u001b[0;34m(self, prompt)\u001b[0m\n\u001b[1;32m    861\u001b[0m             \u001b[0mself\u001b[0m\u001b[0;34m.\u001b[0m\u001b[0m_parent_ident\u001b[0m\u001b[0;34m,\u001b[0m\u001b[0;34m\u001b[0m\u001b[0;34m\u001b[0m\u001b[0m\n\u001b[1;32m    862\u001b[0m             \u001b[0mself\u001b[0m\u001b[0;34m.\u001b[0m\u001b[0m_parent_header\u001b[0m\u001b[0;34m,\u001b[0m\u001b[0;34m\u001b[0m\u001b[0;34m\u001b[0m\u001b[0m\n\u001b[0;32m--> 863\u001b[0;31m             \u001b[0mpassword\u001b[0m\u001b[0;34m=\u001b[0m\u001b[0;32mFalse\u001b[0m\u001b[0;34m,\u001b[0m\u001b[0;34m\u001b[0m\u001b[0;34m\u001b[0m\u001b[0m\n\u001b[0m\u001b[1;32m    864\u001b[0m         )\n\u001b[1;32m    865\u001b[0m \u001b[0;34m\u001b[0m\u001b[0m\n",
            "\u001b[0;32m/usr/local/lib/python3.7/dist-packages/ipykernel/kernelbase.py\u001b[0m in \u001b[0;36m_input_request\u001b[0;34m(self, prompt, ident, parent, password)\u001b[0m\n\u001b[1;32m    902\u001b[0m             \u001b[0;32mexcept\u001b[0m \u001b[0mKeyboardInterrupt\u001b[0m\u001b[0;34m:\u001b[0m\u001b[0;34m\u001b[0m\u001b[0;34m\u001b[0m\u001b[0m\n\u001b[1;32m    903\u001b[0m                 \u001b[0;31m# re-raise KeyboardInterrupt, to truncate traceback\u001b[0m\u001b[0;34m\u001b[0m\u001b[0;34m\u001b[0m\u001b[0;34m\u001b[0m\u001b[0m\n\u001b[0;32m--> 904\u001b[0;31m                 \u001b[0;32mraise\u001b[0m \u001b[0mKeyboardInterrupt\u001b[0m\u001b[0;34m(\u001b[0m\u001b[0;34m\"Interrupted by user\"\u001b[0m\u001b[0;34m)\u001b[0m \u001b[0;32mfrom\u001b[0m \u001b[0;32mNone\u001b[0m\u001b[0;34m\u001b[0m\u001b[0;34m\u001b[0m\u001b[0m\n\u001b[0m\u001b[1;32m    905\u001b[0m             \u001b[0;32mexcept\u001b[0m \u001b[0mException\u001b[0m \u001b[0;32mas\u001b[0m \u001b[0me\u001b[0m\u001b[0;34m:\u001b[0m\u001b[0;34m\u001b[0m\u001b[0;34m\u001b[0m\u001b[0m\n\u001b[1;32m    906\u001b[0m                 \u001b[0mself\u001b[0m\u001b[0;34m.\u001b[0m\u001b[0mlog\u001b[0m\u001b[0;34m.\u001b[0m\u001b[0mwarning\u001b[0m\u001b[0;34m(\u001b[0m\u001b[0;34m\"Invalid Message:\"\u001b[0m\u001b[0;34m,\u001b[0m \u001b[0mexc_info\u001b[0m\u001b[0;34m=\u001b[0m\u001b[0;32mTrue\u001b[0m\u001b[0;34m)\u001b[0m\u001b[0;34m\u001b[0m\u001b[0;34m\u001b[0m\u001b[0m\n",
            "\u001b[0;31mKeyboardInterrupt\u001b[0m: Interrupted by user"
          ]
        }
      ],
      "source": [
        "myInput = input(\"Enter a whole number: \")\n",
        "\n",
        "while(myInput.isnumeric()):\n",
        "\n",
        "    print(\"That is a number\")\n",
        "    if int(myInput) < 10:\n",
        "        print(\"By the way, your number is below 10.\")\n",
        "    else:\n",
        "        print(\"By the way your number is 10 or greater.\")\n",
        "\n",
        "    myInput = input(\"Enter another number please: \")\n",
        "\n",
        "print(\"That is not a valid number, goodbye.\")"
      ]
    },
    {
      "cell_type": "markdown",
      "source": [
        "When we use if statements within a loop, this also opens the door for us to other useful commands we can add within our loops, such as **break**.\n",
        "\n",
        "We can use this to tell python to **exit the loop** if a certain condition is met."
      ],
      "metadata": {
        "id": "RlFxO2gPdgAT"
      }
    },
    {
      "cell_type": "code",
      "source": [
        "myInput = input(\"Enter a whole number: \")\n",
        "\n",
        "while(myInput.isnumeric()):\n",
        "\n",
        "    print(\"That is a number\")\n",
        "    \n",
        "    if myInput == \"000\":\n",
        "        print(\"Bye\")\n",
        "        break\n",
        "    elif int(myInput) < 10:\n",
        "        print(\"By the way, your number is below 10.\")\n",
        "    else:\n",
        "        print(\"By the way your number is 10 or greater.\")\n",
        "\n",
        "    myInput = input(\"Enter another number please, or type 000 to exit: \")\n",
        "\n",
        "print(\"That is not a valid number, goodbye.\")"
      ],
      "metadata": {
        "colab": {
          "base_uri": "https://localhost:8080/"
        },
        "id": "4o2rxwBYdy_n",
        "outputId": "7308446a-bec0-4183-ecfd-faee20444c98"
      },
      "execution_count": 6,
      "outputs": [
        {
          "output_type": "stream",
          "name": "stdout",
          "text": [
            "Enter a whole number: 000\n",
            "That is a number\n",
            "Bye\n",
            "That is not a valid number, goodbye.\n"
          ]
        }
      ]
    },
    {
      "cell_type": "markdown",
      "source": [
        "In the example above, we give the user the opportunity to exit the program by typing \"000\". This is still not a perfect solution, as upon exiting the while loop, the invalid number message is still printed to the screen.\n",
        "\n",
        "For an exercise, see if you can change the code to find a more suitable solution.\n",
        "\n",
        "Another useful command is **pass**. This tells python to **do nothing**, and to carry on to the next line of code. It can be used as a placeholder, when you plan to add code to a loop later."
      ],
      "metadata": {
        "id": "dwzsG1kKe5lk"
      }
    },
    {
      "cell_type": "code",
      "source": [
        "myList = [1,3,5,6,8,23]\n",
        "newList = []\n",
        "\n",
        "print(myList)\n",
        "print(\"I don't like the number 5.\")\n",
        "\n",
        "for i in myList:\n",
        "\n",
        "    if i == 5:\n",
        "        pass\n",
        "    else:\n",
        "        print(f\"Adding {i} to newList.\")\n",
        "        newList.append(i)\n",
        "\n",
        "print(newList)"
      ],
      "metadata": {
        "colab": {
          "base_uri": "https://localhost:8080/"
        },
        "id": "-8-xYNvoffTw",
        "outputId": "74798fac-3c67-483c-ec09-8860cf11ec3d"
      },
      "execution_count": 14,
      "outputs": [
        {
          "output_type": "stream",
          "name": "stdout",
          "text": [
            "[1, 3, 5, 6, 8, 23]\n",
            "I don't like the number 5.\n",
            "Adding 1 to newList.\n",
            "Adding 3 to newList.\n",
            "Adding 6 to newList.\n",
            "Adding 8 to newList.\n",
            "Adding 23 to newList.\n",
            "[1, 3, 6, 8, 23]\n"
          ]
        }
      ]
    },
    {
      "cell_type": "markdown",
      "source": [
        "Similar to pass is the continue command, however, this tells python to skip ahead to the next iteration of the loop, rather than to continue reading the remainder of the code block."
      ],
      "metadata": {
        "id": "fQlGz8l7hxp0"
      }
    },
    {
      "cell_type": "code",
      "source": [
        "letters = [\"a\",\"b\",\"c\",\"d\"]\n",
        "\n",
        "for i in letters:\n",
        "\n",
        "    if i == \"c\":\n",
        "        continue\n",
        "        \n",
        "    print(i)"
      ],
      "metadata": {
        "colab": {
          "base_uri": "https://localhost:8080/"
        },
        "id": "IxCAnMTBi8gV",
        "outputId": "2cace086-865b-4f49-abbb-bdad936eb47c"
      },
      "execution_count": 15,
      "outputs": [
        {
          "output_type": "stream",
          "name": "stdout",
          "text": [
            "a\n",
            "b\n",
            "d\n"
          ]
        }
      ]
    },
    {
      "cell_type": "markdown",
      "source": [
        "In the above example, try changing the continue command to pass instead. You should see that when continue is used, the letter C is not printed, however when pass is used, the letter C does get printed.\n",
        "\n",
        "This is because continue tells python to skip to the next iteration of the loop."
      ],
      "metadata": {
        "id": "Afj9GNkxjcVq"
      }
    }
  ]
}