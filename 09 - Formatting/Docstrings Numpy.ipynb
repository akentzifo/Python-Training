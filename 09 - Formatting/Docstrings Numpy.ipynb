{
 "cells": [
  {
   "cell_type": "markdown",
   "metadata": {},
   "source": [
    "# Docstrings\n",
    "\n",
    "When we are writing functions in python, we use a docstring as a sort of manual for the function. Typically, these will contain a list of inputs for the function and what it returns (the outputs).\n",
    "\n",
    "There are many different ways of writing docstrings to suit different purposes. We will be focusing on the NumpPy style which we have been using for Zifo Data projects.\n",
    "\n",
    "Docstrings when using the NumPy representation are laid out like the example below. Their key features are:\n",
    "* A description of what the function does\n",
    "* A list of arguments, with their type and description\n",
    "* A list of what the function returns, with their type and description"
   ]
  },
  {
   "cell_type": "code",
   "execution_count": null,
   "metadata": {},
   "outputs": [],
   "source": [
    "class myClass():\n",
    "\n",
    "    def myFunction(myString: str, myInt: int)\n",
    "    \"\"\"\n",
    "            Save state to JSON file.\n",
    "            Arguments\n",
    "            ---------\n",
    "            myString: str\n",
    "                this is a description of the string\n",
    "            myInt: int\n",
    "                this is a description of the int\n",
    "            Returns\n",
    "            ---------\n",
    "            myDict: dict{Str: int}\n",
    "                this is a description of the dictionary\n",
    "            \"\"\"\n",
    "            myDict = {myString: myInt}\n",
    "\n",
    "            return myDict"
   ]
  },
  {
   "cell_type": "markdown",
   "metadata": {},
   "source": [
    "These docstrings provide us with information about the inputs and outputs of the function.\n",
    "\n",
    "These are not processed by the interpreter, similar to comments, but they can span multiple lines."
   ]
  },
  {
   "cell_type": "code",
   "execution_count": null,
   "metadata": {},
   "outputs": [],
   "source": [
    "help(myClass)"
   ]
  },
  {
   "cell_type": "markdown",
   "metadata": {},
   "source": [
    "Now if we type `help(myClass)` into a python interpreter, some documentation will be generated which will feature our docstrings at their associated methods.\n",
    "\n",
    "The parameters section lists the input arguments/parameters and their type (eg. String/Int/List or an object name).\n",
    "\n",
    "The returns section is used if the function returns something, such as a string or another object, but our example in this excercise returns nothing."
   ]
  }
 ],
 "metadata": {
  "language_info": {
   "name": "python"
  },
  "orig_nbformat": 4
 },
 "nbformat": 4,
 "nbformat_minor": 2
}
