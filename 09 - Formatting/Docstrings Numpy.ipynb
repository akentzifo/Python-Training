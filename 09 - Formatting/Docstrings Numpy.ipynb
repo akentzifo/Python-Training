{
  "nbformat": 4,
  "nbformat_minor": 0,
  "metadata": {
    "colab": {
      "provenance": [],
      "collapsed_sections": []
    },
    "kernelspec": {
      "name": "python3",
      "display_name": "Python 3"
    },
    "language_info": {
      "name": "python"
    }
  },
  "cells": [
    {
      "cell_type": "markdown",
      "source": [
        "# Docstrings\n",
        "\n",
        "When we are writing functions in python, we use a docstring as a sort of manual for the function. Typically, these will contain a list of inputs for the function and what it returns (the outputs).\n",
        "\n",
        "There are many different ways of writing docstrings to suit different purposes. We will be focusing on the NumpPy style which we have been using for Zifo Data projects.\n",
        "\n",
        "Docstrings when using the NumPy representation are laid out like the example below. Their key features are:\n",
        "* A description of what the function does\n",
        "* A list of arguments, with their type and description\n",
        "* A list of what the function returns, with their type and description"
      ],
      "metadata": {
        "id": "HzQvDZDUiicx"
      }
    },
    {
      "cell_type": "code",
      "execution_count": 4,
      "metadata": {
        "id": "MVcGwrnSihBq"
      },
      "outputs": [],
      "source": [
        "class myClass():\n",
        "\n",
        "    def myFunction(myString: str, myInt: int):\n",
        "        \"\"\"\n",
        "            Save state to JSON file.\n",
        "            Arguments\n",
        "            ---------\n",
        "            myString: str\n",
        "                this is a description of the string\n",
        "            myInt: int\n",
        "                this is a description of the int\n",
        "            Returns\n",
        "            ---------\n",
        "            myDict: dict{Str: int}\n",
        "                this is a description of the dictionary\n",
        "            \"\"\"\n",
        "        myDict = {myString: myInt}\n",
        "\n",
        "        return myDict"
      ]
    },
    {
      "cell_type": "markdown",
      "source": [
        "These docstrings provide us with information about the inputs and outputs of the function.\n",
        "\n",
        "These are not processed by the interpreter, similar to comments, but they can span multiple lines."
      ],
      "metadata": {
        "id": "OBMqXNQ_imy7"
      }
    },
    {
      "cell_type": "code",
      "source": [
        "help(myClass)"
      ],
      "metadata": {
        "colab": {
          "base_uri": "https://localhost:8080/"
        },
        "id": "_wdHsASxioC5",
        "outputId": "ddacf4b1-8ca0-43ac-8dea-1fbdc772a128"
      },
      "execution_count": 5,
      "outputs": [
        {
          "output_type": "stream",
          "name": "stdout",
          "text": [
            "Help on class myClass in module __main__:\n",
            "\n",
            "class myClass(builtins.object)\n",
            " |  Methods defined here:\n",
            " |  \n",
            " |  myFunction(myString: str, myInt: int)\n",
            " |      Save state to JSON file.\n",
            " |      Arguments\n",
            " |      ---------\n",
            " |      myString: str\n",
            " |          this is a description of the string\n",
            " |      myInt: int\n",
            " |          this is a description of the int\n",
            " |      Returns\n",
            " |      ---------\n",
            " |      myDict: dict{Str: int}\n",
            " |          this is a description of the dictionary\n",
            " |  \n",
            " |  ----------------------------------------------------------------------\n",
            " |  Data descriptors defined here:\n",
            " |  \n",
            " |  __dict__\n",
            " |      dictionary for instance variables (if defined)\n",
            " |  \n",
            " |  __weakref__\n",
            " |      list of weak references to the object (if defined)\n",
            "\n"
          ]
        }
      ]
    },
    {
      "cell_type": "markdown",
      "source": [
        "Now if we type `help(myClass)` into a python interpreter, some documentation will be generated which will feature our docstrings at their associated methods.\n",
        "\n",
        "There are also several libraries available that are able. to generate more rich documentation with HTML output. An example of this would be Sphinxdoc\n",
        "\n",
        "This package utilises docstrings similarly to the help command, to lay out class and function information in an orderly fashion"
      ],
      "metadata": {
        "id": "jDRzvi6DipIP"
      }
    }
  ]
}